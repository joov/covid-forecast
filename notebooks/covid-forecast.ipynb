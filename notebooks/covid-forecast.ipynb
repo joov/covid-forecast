{
 "cells": [
  {
   "cell_type": "markdown",
   "metadata": {},
   "source": [
    "# Covid forcast\n",
    "\n",
    "This notebook forecasts dates at wich critical limits in infection rates are reached for European countries"
   ]
  },
  {
   "cell_type": "markdown",
   "metadata": {},
   "source": [
    "Do all imports in inits"
   ]
  },
  {
   "cell_type": "code",
   "execution_count": 154,
   "metadata": {},
   "outputs": [
    {
     "data": {
      "text/html": [
       "        <script type=\"text/javascript\">\n",
       "        window.PlotlyConfig = {MathJaxConfig: 'local'};\n",
       "        if (window.MathJax) {MathJax.Hub.Config({SVG: {font: \"STIX-Web\"}});}\n",
       "        if (typeof require !== 'undefined') {\n",
       "        require.undef(\"plotly\");\n",
       "        requirejs.config({\n",
       "            paths: {\n",
       "                'plotly': ['https://cdn.plot.ly/plotly-2.2.0.min']\n",
       "            }\n",
       "        });\n",
       "        require(['plotly'], function(Plotly) {\n",
       "            window._Plotly = Plotly;\n",
       "        });\n",
       "        }\n",
       "        </script>\n",
       "        "
      ]
     },
     "metadata": {},
     "output_type": "display_data"
    }
   ],
   "source": [
    "import pandas as pd\n",
    "import numpy as np\n",
    "import requests\n",
    "import io\n",
    "from datetime import datetime\n",
    "import plotly.graph_objs as go\n",
    "import plotly.offline as py\n",
    "import math\n",
    "\n",
    "py.init_notebook_mode(connected=True)\n",
    "\n",
    "data_x = np.array([0,1,2])\n",
    "\n",
    "country_name = 'FRA'\n"
   ]
  },
  {
   "cell_type": "markdown",
   "metadata": {},
   "source": [
    "Define some functions"
   ]
  },
  {
   "cell_type": "code",
   "execution_count": 155,
   "metadata": {},
   "outputs": [],
   "source": [
    "\n",
    "def fit_inc(row):\n",
    "    data_y = np.log(np.array([row['seven_inc2'], row['seven_inc1'], row['seven_inc']]))\n",
    "    try:\n",
    "        curve_fit = np.polyfit(data_x, data_y, 1)\n",
    "        \n",
    "        date_50 = (curve_fit[1]-math.log(50.0))/curve_fit[0]\n",
    "        curve_fit = np.append(curve_fit, date_50)\n",
    "    except Exception as e:\n",
    "        \n",
    "        return [np.NaN, np.NaN, np.NaN]\n",
    "    return curve_fit\n",
    "\n",
    "\n",
    "def extend_country(country_data):\n",
    "\n",
    "    country_data_avg = country_data['cases'].rolling(window=7,min_periods=7).sum()[6:]/country_data['popData2020'].values[0]*100000\n",
    "    \n",
    "    country_data_avg.name= 'seven_inc'\n",
    "\n",
    "    country_data_avg = pd.DataFrame(country_data_avg, columns=['seven_inc'])\n",
    "    country_data_avg = country_data_avg.append(pd.DataFrame([np.NaN,np.NaN,np.NaN,np.NaN,np.NaN,np.NaN], columns=['seven_inc']),ignore_index=True)\n",
    "\n",
    "#    print(country_data_avg.head(5))\n",
    "\n",
    "    country_data = pd.concat([country_data.reset_index(), country_data_avg], axis=1)\n",
    "\n",
    "    country_data['seven_inc1'] = country_data.seven_inc.shift(-1)\n",
    "    country_data['seven_inc2'] = country_data.seven_inc.shift(-2)\n",
    "\n",
    "    country_data_fit = country_data.apply(lambda row: fit_inc(row), axis=1, result_type='expand')\n",
    "    country_data_fit.columns = ['fit_exponent', 'fit_factor', 'days_50']\n",
    "\n",
    "    country_data = pd.concat([country_data.reset_index(), country_data_fit], axis=1)\n",
    "    country_data_fit['days_double'] = country_data.fit_exponent.apply(lambda x: np.log(2)/x)\n",
    "    \n",
    "    return country_data_fit\n",
    "\n",
    "   \n",
    "\n"
   ]
  },
  {
   "cell_type": "markdown",
   "metadata": {},
   "source": [
    "Get dataset from ECDC"
   ]
  },
  {
   "cell_type": "code",
   "execution_count": 156,
   "metadata": {},
   "outputs": [],
   "source": [
    "mydateparser = lambda x: datetime.strptime(x, \"%d/%m/%Y\")\n",
    "\n",
    "url = 'https://opendata.ecdc.europa.eu/covid19/nationalcasedeath_eueea_daily_ei/csv/data.csv'\n",
    "\n",
    "\n",
    "s=requests.get(url).content\n",
    "c=pd.read_csv(io.StringIO(s.decode('utf-8')), parse_dates=['dateRep'], date_parser=mydateparser)\n"
   ]
  },
  {
   "cell_type": "code",
   "execution_count": 157,
   "metadata": {},
   "outputs": [
    {
     "name": "stdout",
     "output_type": "stream",
     "text": [
      "['AUT', 'BEL', 'BGR', 'HRV', 'CYP', 'CZE', 'DNK', 'EST', 'FIN', 'FRA', 'DEU', 'GRC', 'HUN', 'ISL', 'IRL', 'ITA', 'LVA', 'LIE', 'LTU', 'LUX', 'MLT', 'NLD', 'NOR', 'POL', 'PRT', 'ROU', 'SVK', 'SVN', 'ESP', 'SWE']\n"
     ]
    }
   ],
   "source": [
    "countries = c['countryterritoryCode'].unique().tolist()\n",
    "print(countries)"
   ]
  },
  {
   "cell_type": "code",
   "execution_count": 158,
   "metadata": {},
   "outputs": [
    {
     "name": "stdout",
     "output_type": "stream",
     "text": [
      "   fit_exponent  fit_factor     days_50  days_double\n",
      "0      0.039730    3.125112  -19.806229    17.446229\n",
      "1      0.060667    3.057870  -14.079262    11.425351\n",
      "2      0.054653    3.006822  -16.562764    12.682751\n",
      "3      0.049616    2.958964  -19.208724    13.970248\n",
      "4      0.029996    2.941969  -32.339276    23.107870\n",
      "5      0.009607    2.939493 -101.230537    72.149631\n",
      "6      0.005166    2.936953 -188.748202   134.175297\n",
      "7     -0.008373    2.953206  114.515715   -82.785630\n",
      "8     -0.028035    2.990982   32.853599   -24.724598\n",
      "9     -0.035368    3.028053   24.993180   -19.597888\n"
     ]
    },
    {
     "name": "stderr",
     "output_type": "stream",
     "text": [
      "/tmp/ipykernel_60/4005605224.py:6: RuntimeWarning:\n",
      "\n",
      "divide by zero encountered in double_scalars\n",
      "\n"
     ]
    }
   ],
   "source": [
    "\n",
    "cols = ['dateRep', 'countriesAndTerritories', 'days_50', 'days_double']\n",
    "\n",
    "summary = pd.DataFrame(columns = cols)\n",
    "country_data = {}\n",
    "\n",
    "\n",
    "for country in countries:\n",
    "    country_data[country] = c[c['countryterritoryCode'] == country]\n",
    "    fit = extend_country(country_data[country])\n",
    "    \n",
    "    if country=='FRA':\n",
    "        print(fit.head(10))\n",
    "    \n",
    "    country_data[country] = pd.concat([country_data[country].reset_index(), fit], axis=1)\n",
    "    \n",
    "    summary = summary.append(country_data[country][cols].head(1))\n",
    "\n",
    "#print(country_data[country_name])\n",
    "#print(summary)"
   ]
  },
  {
   "cell_type": "markdown",
   "metadata": {},
   "source": [
    "Show result (summary)"
   ]
  },
  {
   "cell_type": "code",
   "execution_count": 159,
   "metadata": {},
   "outputs": [
    {
     "data": {
      "application/vnd.plotly.v1+json": {
       "config": {
        "plotlyServerURL": "https://plot.ly"
       },
       "data": [
        {
         "cells": {
          "align": "left",
          "fill": {
           "color": "lavender"
          },
          "values": [
           [
            "2021-07-06T00:00:00",
            "2021-07-06T00:00:00",
            "2021-07-06T00:00:00",
            "2021-07-06T00:00:00",
            "2021-07-06T00:00:00",
            "2021-07-06T00:00:00",
            "2021-07-06T00:00:00",
            "2021-07-06T00:00:00",
            "2021-07-06T00:00:00",
            "2021-07-06T00:00:00",
            "2021-07-06T00:00:00",
            "2021-07-06T00:00:00",
            "2021-07-06T00:00:00",
            "2021-07-06T00:00:00",
            "2021-07-06T00:00:00",
            "2021-07-06T00:00:00",
            "2021-07-06T00:00:00",
            "2021-07-06T00:00:00",
            "2021-07-06T00:00:00",
            "2021-07-06T00:00:00",
            "2021-07-06T00:00:00",
            "2021-07-06T00:00:00",
            "2021-07-06T00:00:00",
            "2021-07-06T00:00:00",
            "2021-07-06T00:00:00",
            "2021-07-06T00:00:00",
            "2021-07-06T00:00:00",
            "2021-07-06T00:00:00",
            "2021-07-05T00:00:00",
            "2021-07-06T00:00:00"
           ],
           [
            "Austria",
            "Belgium",
            "Bulgaria",
            "Croatia",
            "Cyprus",
            "Czechia",
            "Denmark",
            "Estonia",
            "Finland",
            "France",
            "Germany",
            "Greece",
            "Hungary",
            "Iceland",
            "Ireland",
            "Italy",
            "Latvia",
            "Liechtenstein",
            "Lithuania",
            "Luxembourg",
            "Malta",
            "Netherlands",
            "Norway",
            "Poland",
            "Portugal",
            "Romania",
            "Slovakia",
            "Slovenia",
            "Spain",
            "Sweden"
           ],
           [
            101.0619442493031,
            2.3118393001405493,
            138.61026308388912,
            -241.97531685626294,
            14.650999015881483,
            -340.0148570683854,
            -3.457196784200559,
            -55.17298854606034,
            -107.50027250019194,
            -19.80622940142942,
            -667.0306375693542,
            -1.4485096180155528,
            20.925929313925113,
            37.555798421949234,
            3.9059137965959696,
            -154.83670272929677,
            37.275713471544314,
            -763066860730180.5,
            -82.29070579010559,
            0.7286885440871006,
            -9.385477412766921,
            -3.774912908159967,
            -22.86823892227906,
            158.35770282315409,
            25.84702206947454,
            98.8274354852178,
            25.472786766706882,
            -81.88363506724019,
            3.951375810953014,
            3.7236748560179365
           ],
           [
            -36.32805635524937,
            -3.872402703922473,
            -50.695606175331804,
            133.31410642409736,
            5.444317397555132,
            145.55980767729994,
            8.071460444692121,
            34.57571090536981,
            107.2052700582671,
            17.446228809890446,
            201.56162523099545,
            7.026938322618748,
            -5.041305916092911,
            -11.075899249584323,
            17.66322494998299,
            61.524402589097946,
            -32.49597294851658,
            1163373018878840.2,
            30.354570682379617,
            2.3023550066857887,
            3.262765816134449,
            4.882890058940661,
            20.18785589287326,
            -32.470296933972534,
            17.91562619125116,
            -20.345450777549484,
            -8.448320451889176,
            32.05306082260425,
            3.82879843990559,
            -2.2263823948686983
           ]
          ]
         },
         "header": {
          "align": "left",
          "fill": {
           "color": "paleturquoise"
          },
          "values": [
           "dateRep",
           "countriesAndTerritories",
           "days_50",
           "days_double"
          ]
         },
         "type": "table"
        }
       ],
       "layout": {
        "autosize": true,
        "margin": {
         "b": 0,
         "l": 0,
         "r": 0,
         "t": 0
        },
        "template": {
         "data": {
          "bar": [
           {
            "error_x": {
             "color": "#2a3f5f"
            },
            "error_y": {
             "color": "#2a3f5f"
            },
            "marker": {
             "line": {
              "color": "#E5ECF6",
              "width": 0.5
             },
             "pattern": {
              "fillmode": "overlay",
              "size": 10,
              "solidity": 0.2
             }
            },
            "type": "bar"
           }
          ],
          "barpolar": [
           {
            "marker": {
             "line": {
              "color": "#E5ECF6",
              "width": 0.5
             },
             "pattern": {
              "fillmode": "overlay",
              "size": 10,
              "solidity": 0.2
             }
            },
            "type": "barpolar"
           }
          ],
          "carpet": [
           {
            "aaxis": {
             "endlinecolor": "#2a3f5f",
             "gridcolor": "white",
             "linecolor": "white",
             "minorgridcolor": "white",
             "startlinecolor": "#2a3f5f"
            },
            "baxis": {
             "endlinecolor": "#2a3f5f",
             "gridcolor": "white",
             "linecolor": "white",
             "minorgridcolor": "white",
             "startlinecolor": "#2a3f5f"
            },
            "type": "carpet"
           }
          ],
          "choropleth": [
           {
            "colorbar": {
             "outlinewidth": 0,
             "ticks": ""
            },
            "type": "choropleth"
           }
          ],
          "contour": [
           {
            "colorbar": {
             "outlinewidth": 0,
             "ticks": ""
            },
            "colorscale": [
             [
              0,
              "#0d0887"
             ],
             [
              0.1111111111111111,
              "#46039f"
             ],
             [
              0.2222222222222222,
              "#7201a8"
             ],
             [
              0.3333333333333333,
              "#9c179e"
             ],
             [
              0.4444444444444444,
              "#bd3786"
             ],
             [
              0.5555555555555556,
              "#d8576b"
             ],
             [
              0.6666666666666666,
              "#ed7953"
             ],
             [
              0.7777777777777778,
              "#fb9f3a"
             ],
             [
              0.8888888888888888,
              "#fdca26"
             ],
             [
              1,
              "#f0f921"
             ]
            ],
            "type": "contour"
           }
          ],
          "contourcarpet": [
           {
            "colorbar": {
             "outlinewidth": 0,
             "ticks": ""
            },
            "type": "contourcarpet"
           }
          ],
          "heatmap": [
           {
            "colorbar": {
             "outlinewidth": 0,
             "ticks": ""
            },
            "colorscale": [
             [
              0,
              "#0d0887"
             ],
             [
              0.1111111111111111,
              "#46039f"
             ],
             [
              0.2222222222222222,
              "#7201a8"
             ],
             [
              0.3333333333333333,
              "#9c179e"
             ],
             [
              0.4444444444444444,
              "#bd3786"
             ],
             [
              0.5555555555555556,
              "#d8576b"
             ],
             [
              0.6666666666666666,
              "#ed7953"
             ],
             [
              0.7777777777777778,
              "#fb9f3a"
             ],
             [
              0.8888888888888888,
              "#fdca26"
             ],
             [
              1,
              "#f0f921"
             ]
            ],
            "type": "heatmap"
           }
          ],
          "heatmapgl": [
           {
            "colorbar": {
             "outlinewidth": 0,
             "ticks": ""
            },
            "colorscale": [
             [
              0,
              "#0d0887"
             ],
             [
              0.1111111111111111,
              "#46039f"
             ],
             [
              0.2222222222222222,
              "#7201a8"
             ],
             [
              0.3333333333333333,
              "#9c179e"
             ],
             [
              0.4444444444444444,
              "#bd3786"
             ],
             [
              0.5555555555555556,
              "#d8576b"
             ],
             [
              0.6666666666666666,
              "#ed7953"
             ],
             [
              0.7777777777777778,
              "#fb9f3a"
             ],
             [
              0.8888888888888888,
              "#fdca26"
             ],
             [
              1,
              "#f0f921"
             ]
            ],
            "type": "heatmapgl"
           }
          ],
          "histogram": [
           {
            "marker": {
             "pattern": {
              "fillmode": "overlay",
              "size": 10,
              "solidity": 0.2
             }
            },
            "type": "histogram"
           }
          ],
          "histogram2d": [
           {
            "colorbar": {
             "outlinewidth": 0,
             "ticks": ""
            },
            "colorscale": [
             [
              0,
              "#0d0887"
             ],
             [
              0.1111111111111111,
              "#46039f"
             ],
             [
              0.2222222222222222,
              "#7201a8"
             ],
             [
              0.3333333333333333,
              "#9c179e"
             ],
             [
              0.4444444444444444,
              "#bd3786"
             ],
             [
              0.5555555555555556,
              "#d8576b"
             ],
             [
              0.6666666666666666,
              "#ed7953"
             ],
             [
              0.7777777777777778,
              "#fb9f3a"
             ],
             [
              0.8888888888888888,
              "#fdca26"
             ],
             [
              1,
              "#f0f921"
             ]
            ],
            "type": "histogram2d"
           }
          ],
          "histogram2dcontour": [
           {
            "colorbar": {
             "outlinewidth": 0,
             "ticks": ""
            },
            "colorscale": [
             [
              0,
              "#0d0887"
             ],
             [
              0.1111111111111111,
              "#46039f"
             ],
             [
              0.2222222222222222,
              "#7201a8"
             ],
             [
              0.3333333333333333,
              "#9c179e"
             ],
             [
              0.4444444444444444,
              "#bd3786"
             ],
             [
              0.5555555555555556,
              "#d8576b"
             ],
             [
              0.6666666666666666,
              "#ed7953"
             ],
             [
              0.7777777777777778,
              "#fb9f3a"
             ],
             [
              0.8888888888888888,
              "#fdca26"
             ],
             [
              1,
              "#f0f921"
             ]
            ],
            "type": "histogram2dcontour"
           }
          ],
          "mesh3d": [
           {
            "colorbar": {
             "outlinewidth": 0,
             "ticks": ""
            },
            "type": "mesh3d"
           }
          ],
          "parcoords": [
           {
            "line": {
             "colorbar": {
              "outlinewidth": 0,
              "ticks": ""
             }
            },
            "type": "parcoords"
           }
          ],
          "pie": [
           {
            "automargin": true,
            "type": "pie"
           }
          ],
          "scatter": [
           {
            "marker": {
             "colorbar": {
              "outlinewidth": 0,
              "ticks": ""
             }
            },
            "type": "scatter"
           }
          ],
          "scatter3d": [
           {
            "line": {
             "colorbar": {
              "outlinewidth": 0,
              "ticks": ""
             }
            },
            "marker": {
             "colorbar": {
              "outlinewidth": 0,
              "ticks": ""
             }
            },
            "type": "scatter3d"
           }
          ],
          "scattercarpet": [
           {
            "marker": {
             "colorbar": {
              "outlinewidth": 0,
              "ticks": ""
             }
            },
            "type": "scattercarpet"
           }
          ],
          "scattergeo": [
           {
            "marker": {
             "colorbar": {
              "outlinewidth": 0,
              "ticks": ""
             }
            },
            "type": "scattergeo"
           }
          ],
          "scattergl": [
           {
            "marker": {
             "colorbar": {
              "outlinewidth": 0,
              "ticks": ""
             }
            },
            "type": "scattergl"
           }
          ],
          "scattermapbox": [
           {
            "marker": {
             "colorbar": {
              "outlinewidth": 0,
              "ticks": ""
             }
            },
            "type": "scattermapbox"
           }
          ],
          "scatterpolar": [
           {
            "marker": {
             "colorbar": {
              "outlinewidth": 0,
              "ticks": ""
             }
            },
            "type": "scatterpolar"
           }
          ],
          "scatterpolargl": [
           {
            "marker": {
             "colorbar": {
              "outlinewidth": 0,
              "ticks": ""
             }
            },
            "type": "scatterpolargl"
           }
          ],
          "scatterternary": [
           {
            "marker": {
             "colorbar": {
              "outlinewidth": 0,
              "ticks": ""
             }
            },
            "type": "scatterternary"
           }
          ],
          "surface": [
           {
            "colorbar": {
             "outlinewidth": 0,
             "ticks": ""
            },
            "colorscale": [
             [
              0,
              "#0d0887"
             ],
             [
              0.1111111111111111,
              "#46039f"
             ],
             [
              0.2222222222222222,
              "#7201a8"
             ],
             [
              0.3333333333333333,
              "#9c179e"
             ],
             [
              0.4444444444444444,
              "#bd3786"
             ],
             [
              0.5555555555555556,
              "#d8576b"
             ],
             [
              0.6666666666666666,
              "#ed7953"
             ],
             [
              0.7777777777777778,
              "#fb9f3a"
             ],
             [
              0.8888888888888888,
              "#fdca26"
             ],
             [
              1,
              "#f0f921"
             ]
            ],
            "type": "surface"
           }
          ],
          "table": [
           {
            "cells": {
             "fill": {
              "color": "#EBF0F8"
             },
             "line": {
              "color": "white"
             }
            },
            "header": {
             "fill": {
              "color": "#C8D4E3"
             },
             "line": {
              "color": "white"
             }
            },
            "type": "table"
           }
          ]
         },
         "layout": {
          "annotationdefaults": {
           "arrowcolor": "#2a3f5f",
           "arrowhead": 0,
           "arrowwidth": 1
          },
          "autotypenumbers": "strict",
          "coloraxis": {
           "colorbar": {
            "outlinewidth": 0,
            "ticks": ""
           }
          },
          "colorscale": {
           "diverging": [
            [
             0,
             "#8e0152"
            ],
            [
             0.1,
             "#c51b7d"
            ],
            [
             0.2,
             "#de77ae"
            ],
            [
             0.3,
             "#f1b6da"
            ],
            [
             0.4,
             "#fde0ef"
            ],
            [
             0.5,
             "#f7f7f7"
            ],
            [
             0.6,
             "#e6f5d0"
            ],
            [
             0.7,
             "#b8e186"
            ],
            [
             0.8,
             "#7fbc41"
            ],
            [
             0.9,
             "#4d9221"
            ],
            [
             1,
             "#276419"
            ]
           ],
           "sequential": [
            [
             0,
             "#0d0887"
            ],
            [
             0.1111111111111111,
             "#46039f"
            ],
            [
             0.2222222222222222,
             "#7201a8"
            ],
            [
             0.3333333333333333,
             "#9c179e"
            ],
            [
             0.4444444444444444,
             "#bd3786"
            ],
            [
             0.5555555555555556,
             "#d8576b"
            ],
            [
             0.6666666666666666,
             "#ed7953"
            ],
            [
             0.7777777777777778,
             "#fb9f3a"
            ],
            [
             0.8888888888888888,
             "#fdca26"
            ],
            [
             1,
             "#f0f921"
            ]
           ],
           "sequentialminus": [
            [
             0,
             "#0d0887"
            ],
            [
             0.1111111111111111,
             "#46039f"
            ],
            [
             0.2222222222222222,
             "#7201a8"
            ],
            [
             0.3333333333333333,
             "#9c179e"
            ],
            [
             0.4444444444444444,
             "#bd3786"
            ],
            [
             0.5555555555555556,
             "#d8576b"
            ],
            [
             0.6666666666666666,
             "#ed7953"
            ],
            [
             0.7777777777777778,
             "#fb9f3a"
            ],
            [
             0.8888888888888888,
             "#fdca26"
            ],
            [
             1,
             "#f0f921"
            ]
           ]
          },
          "colorway": [
           "#636efa",
           "#EF553B",
           "#00cc96",
           "#ab63fa",
           "#FFA15A",
           "#19d3f3",
           "#FF6692",
           "#B6E880",
           "#FF97FF",
           "#FECB52"
          ],
          "font": {
           "color": "#2a3f5f"
          },
          "geo": {
           "bgcolor": "white",
           "lakecolor": "white",
           "landcolor": "#E5ECF6",
           "showlakes": true,
           "showland": true,
           "subunitcolor": "white"
          },
          "hoverlabel": {
           "align": "left"
          },
          "hovermode": "closest",
          "mapbox": {
           "style": "light"
          },
          "paper_bgcolor": "white",
          "plot_bgcolor": "#E5ECF6",
          "polar": {
           "angularaxis": {
            "gridcolor": "white",
            "linecolor": "white",
            "ticks": ""
           },
           "bgcolor": "#E5ECF6",
           "radialaxis": {
            "gridcolor": "white",
            "linecolor": "white",
            "ticks": ""
           }
          },
          "scene": {
           "xaxis": {
            "backgroundcolor": "#E5ECF6",
            "gridcolor": "white",
            "gridwidth": 2,
            "linecolor": "white",
            "showbackground": true,
            "ticks": "",
            "zerolinecolor": "white"
           },
           "yaxis": {
            "backgroundcolor": "#E5ECF6",
            "gridcolor": "white",
            "gridwidth": 2,
            "linecolor": "white",
            "showbackground": true,
            "ticks": "",
            "zerolinecolor": "white"
           },
           "zaxis": {
            "backgroundcolor": "#E5ECF6",
            "gridcolor": "white",
            "gridwidth": 2,
            "linecolor": "white",
            "showbackground": true,
            "ticks": "",
            "zerolinecolor": "white"
           }
          },
          "shapedefaults": {
           "line": {
            "color": "#2a3f5f"
           }
          },
          "ternary": {
           "aaxis": {
            "gridcolor": "white",
            "linecolor": "white",
            "ticks": ""
           },
           "baxis": {
            "gridcolor": "white",
            "linecolor": "white",
            "ticks": ""
           },
           "bgcolor": "#E5ECF6",
           "caxis": {
            "gridcolor": "white",
            "linecolor": "white",
            "ticks": ""
           }
          },
          "title": {
           "x": 0.05
          },
          "xaxis": {
           "automargin": true,
           "gridcolor": "white",
           "linecolor": "white",
           "ticks": "",
           "title": {
            "standoff": 15
           },
           "zerolinecolor": "white",
           "zerolinewidth": 2
          },
          "yaxis": {
           "automargin": true,
           "gridcolor": "white",
           "linecolor": "white",
           "ticks": "",
           "title": {
            "standoff": 15
           },
           "zerolinecolor": "white",
           "zerolinewidth": 2
          }
         }
        }
       }
      },
      "image/png": "[encoded data removed]",
      "text/html": [
       "<div>                            <div id=\"0ee1a4c1-a779-4a46-83e8-60d5a83b337f\" class=\"plotly-graph-div\" style=\"height:525px; width:100%;\"></div>            <script type=\"text/javascript\">                require([\"plotly\"], function(Plotly) {                    window.PLOTLYENV=window.PLOTLYENV || {};                                    if (document.getElementById(\"0ee1a4c1-a779-4a46-83e8-60d5a83b337f\")) {                    Plotly.newPlot(                        \"0ee1a4c1-a779-4a46-83e8-60d5a83b337f\",                        [{\"cells\":{\"align\":\"left\",\"fill\":{\"color\":\"lavender\"},\"values\":[[\"2021-07-06T00:00:00\",\"2021-07-06T00:00:00\",\"2021-07-06T00:00:00\",\"2021-07-06T00:00:00\",\"2021-07-06T00:00:00\",\"2021-07-06T00:00:00\",\"2021-07-06T00:00:00\",\"2021-07-06T00:00:00\",\"2021-07-06T00:00:00\",\"2021-07-06T00:00:00\",\"2021-07-06T00:00:00\",\"2021-07-06T00:00:00\",\"2021-07-06T00:00:00\",\"2021-07-06T00:00:00\",\"2021-07-06T00:00:00\",\"2021-07-06T00:00:00\",\"2021-07-06T00:00:00\",\"2021-07-06T00:00:00\",\"2021-07-06T00:00:00\",\"2021-07-06T00:00:00\",\"2021-07-06T00:00:00\",\"2021-07-06T00:00:00\",\"2021-07-06T00:00:00\",\"2021-07-06T00:00:00\",\"2021-07-06T00:00:00\",\"2021-07-06T00:00:00\",\"2021-07-06T00:00:00\",\"2021-07-06T00:00:00\",\"2021-07-05T00:00:00\",\"2021-07-06T00:00:00\"],[\"Austria\",\"Belgium\",\"Bulgaria\",\"Croatia\",\"Cyprus\",\"Czechia\",\"Denmark\",\"Estonia\",\"Finland\",\"France\",\"Germany\",\"Greece\",\"Hungary\",\"Iceland\",\"Ireland\",\"Italy\",\"Latvia\",\"Liechtenstein\",\"Lithuania\",\"Luxembourg\",\"Malta\",\"Netherlands\",\"Norway\",\"Poland\",\"Portugal\",\"Romania\",\"Slovakia\",\"Slovenia\",\"Spain\",\"Sweden\"],[101.0619442493031,2.3118393001405493,138.61026308388912,-241.97531685626294,14.650999015881483,-340.0148570683854,-3.457196784200559,-55.17298854606034,-107.50027250019194,-19.80622940142942,-667.0306375693542,-1.4485096180155528,20.925929313925113,37.555798421949234,3.9059137965959696,-154.83670272929677,37.275713471544314,-763066860730180.5,-82.29070579010559,0.7286885440871006,-9.385477412766921,-3.774912908159967,-22.86823892227906,158.35770282315409,25.84702206947454,98.8274354852178,25.472786766706882,-81.88363506724019,3.951375810953014,3.7236748560179365],[-36.32805635524937,-3.872402703922473,-50.695606175331804,133.31410642409736,5.444317397555132,145.55980767729994,8.071460444692121,34.57571090536981,107.2052700582671,17.446228809890446,201.56162523099545,7.026938322618748,-5.041305916092911,-11.075899249584323,17.66322494998299,61.524402589097946,-32.49597294851658,1163373018878840.2,30.354570682379617,2.3023550066857887,3.262765816134449,4.882890058940661,20.18785589287326,-32.470296933972534,17.91562619125116,-20.345450777549484,-8.448320451889176,32.05306082260425,3.82879843990559,-2.2263823948686983]]},\"header\":{\"align\":\"left\",\"fill\":{\"color\":\"paleturquoise\"},\"values\":[\"dateRep\",\"countriesAndTerritories\",\"days_50\",\"days_double\"]},\"type\":\"table\"}],                        {\"margin\":{\"b\":0,\"l\":0,\"r\":0,\"t\":0},\"template\":{\"data\":{\"bar\":[{\"error_x\":{\"color\":\"#2a3f5f\"},\"error_y\":{\"color\":\"#2a3f5f\"},\"marker\":{\"line\":{\"color\":\"#E5ECF6\",\"width\":0.5},\"pattern\":{\"fillmode\":\"overlay\",\"size\":10,\"solidity\":0.2}},\"type\":\"bar\"}],\"barpolar\":[{\"marker\":{\"line\":{\"color\":\"#E5ECF6\",\"width\":0.5},\"pattern\":{\"fillmode\":\"overlay\",\"size\":10,\"solidity\":0.2}},\"type\":\"barpolar\"}],\"carpet\":[{\"aaxis\":{\"endlinecolor\":\"#2a3f5f\",\"gridcolor\":\"white\",\"linecolor\":\"white\",\"minorgridcolor\":\"white\",\"startlinecolor\":\"#2a3f5f\"},\"baxis\":{\"endlinecolor\":\"#2a3f5f\",\"gridcolor\":\"white\",\"linecolor\":\"white\",\"minorgridcolor\":\"white\",\"startlinecolor\":\"#2a3f5f\"},\"type\":\"carpet\"}],\"choropleth\":[{\"colorbar\":{\"outlinewidth\":0,\"ticks\":\"\"},\"type\":\"choropleth\"}],\"contour\":[{\"colorbar\":{\"outlinewidth\":0,\"ticks\":\"\"},\"colorscale\":[[0.0,\"#0d0887\"],[0.1111111111111111,\"#46039f\"],[0.2222222222222222,\"#7201a8\"],[0.3333333333333333,\"#9c179e\"],[0.4444444444444444,\"#bd3786\"],[0.5555555555555556,\"#d8576b\"],[0.6666666666666666,\"#ed7953\"],[0.7777777777777778,\"#fb9f3a\"],[0.8888888888888888,\"#fdca26\"],[1.0,\"#f0f921\"]],\"type\":\"contour\"}],\"contourcarpet\":[{\"colorbar\":{\"outlinewidth\":0,\"ticks\":\"\"},\"type\":\"contourcarpet\"}],\"heatmap\":[{\"colorbar\":{\"outlinewidth\":0,\"ticks\":\"\"},\"colorscale\":[[0.0,\"#0d0887\"],[0.1111111111111111,\"#46039f\"],[0.2222222222222222,\"#7201a8\"],[0.3333333333333333,\"#9c179e\"],[0.4444444444444444,\"#bd3786\"],[0.5555555555555556,\"#d8576b\"],[0.6666666666666666,\"#ed7953\"],[0.7777777777777778,\"#fb9f3a\"],[0.8888888888888888,\"#fdca26\"],[1.0,\"#f0f921\"]],\"type\":\"heatmap\"}],\"heatmapgl\":[{\"colorbar\":{\"outlinewidth\":0,\"ticks\":\"\"},\"colorscale\":[[0.0,\"#0d0887\"],[0.1111111111111111,\"#46039f\"],[0.2222222222222222,\"#7201a8\"],[0.3333333333333333,\"#9c179e\"],[0.4444444444444444,\"#bd3786\"],[0.5555555555555556,\"#d8576b\"],[0.6666666666666666,\"#ed7953\"],[0.7777777777777778,\"#fb9f3a\"],[0.8888888888888888,\"#fdca26\"],[1.0,\"#f0f921\"]],\"type\":\"heatmapgl\"}],\"histogram\":[{\"marker\":{\"pattern\":{\"fillmode\":\"overlay\",\"size\":10,\"solidity\":0.2}},\"type\":\"histogram\"}],\"histogram2d\":[{\"colorbar\":{\"outlinewidth\":0,\"ticks\":\"\"},\"colorscale\":[[0.0,\"#0d0887\"],[0.1111111111111111,\"#46039f\"],[0.2222222222222222,\"#7201a8\"],[0.3333333333333333,\"#9c179e\"],[0.4444444444444444,\"#bd3786\"],[0.5555555555555556,\"#d8576b\"],[0.6666666666666666,\"#ed7953\"],[0.7777777777777778,\"#fb9f3a\"],[0.8888888888888888,\"#fdca26\"],[1.0,\"#f0f921\"]],\"type\":\"histogram2d\"}],\"histogram2dcontour\":[{\"colorbar\":{\"outlinewidth\":0,\"ticks\":\"\"},\"colorscale\":[[0.0,\"#0d0887\"],[0.1111111111111111,\"#46039f\"],[0.2222222222222222,\"#7201a8\"],[0.3333333333333333,\"#9c179e\"],[0.4444444444444444,\"#bd3786\"],[0.5555555555555556,\"#d8576b\"],[0.6666666666666666,\"#ed7953\"],[0.7777777777777778,\"#fb9f3a\"],[0.8888888888888888,\"#fdca26\"],[1.0,\"#f0f921\"]],\"type\":\"histogram2dcontour\"}],\"mesh3d\":[{\"colorbar\":{\"outlinewidth\":0,\"ticks\":\"\"},\"type\":\"mesh3d\"}],\"parcoords\":[{\"line\":{\"colorbar\":{\"outlinewidth\":0,\"ticks\":\"\"}},\"type\":\"parcoords\"}],\"pie\":[{\"automargin\":true,\"type\":\"pie\"}],\"scatter\":[{\"marker\":{\"colorbar\":{\"outlinewidth\":0,\"ticks\":\"\"}},\"type\":\"scatter\"}],\"scatter3d\":[{\"line\":{\"colorbar\":{\"outlinewidth\":0,\"ticks\":\"\"}},\"marker\":{\"colorbar\":{\"outlinewidth\":0,\"ticks\":\"\"}},\"type\":\"scatter3d\"}],\"scattercarpet\":[{\"marker\":{\"colorbar\":{\"outlinewidth\":0,\"ticks\":\"\"}},\"type\":\"scattercarpet\"}],\"scattergeo\":[{\"marker\":{\"colorbar\":{\"outlinewidth\":0,\"ticks\":\"\"}},\"type\":\"scattergeo\"}],\"scattergl\":[{\"marker\":{\"colorbar\":{\"outlinewidth\":0,\"ticks\":\"\"}},\"type\":\"scattergl\"}],\"scattermapbox\":[{\"marker\":{\"colorbar\":{\"outlinewidth\":0,\"ticks\":\"\"}},\"type\":\"scattermapbox\"}],\"scatterpolar\":[{\"marker\":{\"colorbar\":{\"outlinewidth\":0,\"ticks\":\"\"}},\"type\":\"scatterpolar\"}],\"scatterpolargl\":[{\"marker\":{\"colorbar\":{\"outlinewidth\":0,\"ticks\":\"\"}},\"type\":\"scatterpolargl\"}],\"scatterternary\":[{\"marker\":{\"colorbar\":{\"outlinewidth\":0,\"ticks\":\"\"}},\"type\":\"scatterternary\"}],\"surface\":[{\"colorbar\":{\"outlinewidth\":0,\"ticks\":\"\"},\"colorscale\":[[0.0,\"#0d0887\"],[0.1111111111111111,\"#46039f\"],[0.2222222222222222,\"#7201a8\"],[0.3333333333333333,\"#9c179e\"],[0.4444444444444444,\"#bd3786\"],[0.5555555555555556,\"#d8576b\"],[0.6666666666666666,\"#ed7953\"],[0.7777777777777778,\"#fb9f3a\"],[0.8888888888888888,\"#fdca26\"],[1.0,\"#f0f921\"]],\"type\":\"surface\"}],\"table\":[{\"cells\":{\"fill\":{\"color\":\"#EBF0F8\"},\"line\":{\"color\":\"white\"}},\"header\":{\"fill\":{\"color\":\"#C8D4E3\"},\"line\":{\"color\":\"white\"}},\"type\":\"table\"}]},\"layout\":{\"annotationdefaults\":{\"arrowcolor\":\"#2a3f5f\",\"arrowhead\":0,\"arrowwidth\":1},\"autotypenumbers\":\"strict\",\"coloraxis\":{\"colorbar\":{\"outlinewidth\":0,\"ticks\":\"\"}},\"colorscale\":{\"diverging\":[[0,\"#8e0152\"],[0.1,\"#c51b7d\"],[0.2,\"#de77ae\"],[0.3,\"#f1b6da\"],[0.4,\"#fde0ef\"],[0.5,\"#f7f7f7\"],[0.6,\"#e6f5d0\"],[0.7,\"#b8e186\"],[0.8,\"#7fbc41\"],[0.9,\"#4d9221\"],[1,\"#276419\"]],\"sequential\":[[0.0,\"#0d0887\"],[0.1111111111111111,\"#46039f\"],[0.2222222222222222,\"#7201a8\"],[0.3333333333333333,\"#9c179e\"],[0.4444444444444444,\"#bd3786\"],[0.5555555555555556,\"#d8576b\"],[0.6666666666666666,\"#ed7953\"],[0.7777777777777778,\"#fb9f3a\"],[0.8888888888888888,\"#fdca26\"],[1.0,\"#f0f921\"]],\"sequentialminus\":[[0.0,\"#0d0887\"],[0.1111111111111111,\"#46039f\"],[0.2222222222222222,\"#7201a8\"],[0.3333333333333333,\"#9c179e\"],[0.4444444444444444,\"#bd3786\"],[0.5555555555555556,\"#d8576b\"],[0.6666666666666666,\"#ed7953\"],[0.7777777777777778,\"#fb9f3a\"],[0.8888888888888888,\"#fdca26\"],[1.0,\"#f0f921\"]]},\"colorway\":[\"#636efa\",\"#EF553B\",\"#00cc96\",\"#ab63fa\",\"#FFA15A\",\"#19d3f3\",\"#FF6692\",\"#B6E880\",\"#FF97FF\",\"#FECB52\"],\"font\":{\"color\":\"#2a3f5f\"},\"geo\":{\"bgcolor\":\"white\",\"lakecolor\":\"white\",\"landcolor\":\"#E5ECF6\",\"showlakes\":true,\"showland\":true,\"subunitcolor\":\"white\"},\"hoverlabel\":{\"align\":\"left\"},\"hovermode\":\"closest\",\"mapbox\":{\"style\":\"light\"},\"paper_bgcolor\":\"white\",\"plot_bgcolor\":\"#E5ECF6\",\"polar\":{\"angularaxis\":{\"gridcolor\":\"white\",\"linecolor\":\"white\",\"ticks\":\"\"},\"bgcolor\":\"#E5ECF6\",\"radialaxis\":{\"gridcolor\":\"white\",\"linecolor\":\"white\",\"ticks\":\"\"}},\"scene\":{\"xaxis\":{\"backgroundcolor\":\"#E5ECF6\",\"gridcolor\":\"white\",\"gridwidth\":2,\"linecolor\":\"white\",\"showbackground\":true,\"ticks\":\"\",\"zerolinecolor\":\"white\"},\"yaxis\":{\"backgroundcolor\":\"#E5ECF6\",\"gridcolor\":\"white\",\"gridwidth\":2,\"linecolor\":\"white\",\"showbackground\":true,\"ticks\":\"\",\"zerolinecolor\":\"white\"},\"zaxis\":{\"backgroundcolor\":\"#E5ECF6\",\"gridcolor\":\"white\",\"gridwidth\":2,\"linecolor\":\"white\",\"showbackground\":true,\"ticks\":\"\",\"zerolinecolor\":\"white\"}},\"shapedefaults\":{\"line\":{\"color\":\"#2a3f5f\"}},\"ternary\":{\"aaxis\":{\"gridcolor\":\"white\",\"linecolor\":\"white\",\"ticks\":\"\"},\"baxis\":{\"gridcolor\":\"white\",\"linecolor\":\"white\",\"ticks\":\"\"},\"bgcolor\":\"#E5ECF6\",\"caxis\":{\"gridcolor\":\"white\",\"linecolor\":\"white\",\"ticks\":\"\"}},\"title\":{\"x\":0.05},\"xaxis\":{\"automargin\":true,\"gridcolor\":\"white\",\"linecolor\":\"white\",\"ticks\":\"\",\"title\":{\"standoff\":15},\"zerolinecolor\":\"white\",\"zerolinewidth\":2},\"yaxis\":{\"automargin\":true,\"gridcolor\":\"white\",\"linecolor\":\"white\",\"ticks\":\"\",\"title\":{\"standoff\":15},\"zerolinecolor\":\"white\",\"zerolinewidth\":2}}}},                        {\"responsive\": true}                    ).then(function(){\n",
       "                            \n",
       "var gd = document.getElementById('0ee1a4c1-a779-4a46-83e8-60d5a83b337f');\n",
       "var x = new MutationObserver(function (mutations, observer) {{\n",
       "        var display = window.getComputedStyle(gd).display;\n",
       "        if (!display || display === 'none') {{\n",
       "            console.log([gd, 'removed!']);\n",
       "            Plotly.purge(gd);\n",
       "            observer.disconnect();\n",
       "        }}\n",
       "}});\n",
       "\n",
       "// Listen for the removal of the full notebook cells\n",
       "var notebookContainer = gd.closest('#notebook-container');\n",
       "if (notebookContainer) {{\n",
       "    x.observe(notebookContainer, {childList: true});\n",
       "}}\n",
       "\n",
       "// Listen for the clearing of the current output cell\n",
       "var outputEl = gd.closest('.output');\n",
       "if (outputEl) {{\n",
       "    x.observe(outputEl, {childList: true});\n",
       "}}\n",
       "\n",
       "                        })                };                });            </script>        </div>"
      ]
     },
     "metadata": {},
     "output_type": "display_data"
    }
   ],
   "source": [
    "fig = go.Figure(data=[go.Table(\n",
    "        header=dict(values=list(summary.columns),\n",
    "                    fill_color='paleturquoise',\n",
    "                    align='left'),\n",
    "        cells=dict(values=summary.transpose().values.tolist(),\n",
    "                   fill_color='lavender',\n",
    "                   align='left'))\n",
    "    ])\n",
    "    \n",
    "fig.update_layout(margin=dict(t=0,b=0,l=0,r=0))\n",
    "fig.show()"
   ]
  },
  {
   "cell_type": "markdown",
   "metadata": {},
   "source": [
    "Show days to 50 infections / 100.000 inhabitants\n",
    "- Negative values mean: rate of infections decreasing\n",
    "- Positive values mean: rate of infections increasing"
   ]
  },
  {
   "cell_type": "code",
   "execution_count": 162,
   "metadata": {},
   "outputs": [
    {
     "data": {
      "application/vnd.plotly.v1+json": {
       "config": {
        "plotlyServerURL": "https://plot.ly"
       },
       "data": [
        {
         "name": "AUT",
         "showlegend": true,
         "title": {
          "text": "All"
         },
         "type": "scatter",
         "visible": true,
         "x": [
          "2021-07-06T00:00:00",
          "2021-07-05T00:00:00",
          "2021-07-04T00:00:00",
          "2021-07-03T00:00:00",
          "2021-07-02T00:00:00"
         ],
         "y": [
          101.0619442493031,
          -113.33355902825193,
          -38.67070470115583,
          -1243.2157712793257,
          18.053280077944375
         ]
        },
        {
         "name": "BEL",
         "showlegend": true,
         "title": {
          "text": "All"
         },
         "type": "scatter",
         "visible": true,
         "x": [
          "2021-07-06T00:00:00",
          "2021-07-05T00:00:00",
          "2021-07-04T00:00:00",
          "2021-07-03T00:00:00",
          "2021-07-02T00:00:00"
         ],
         "y": [
          2.3118393001405493,
          4.645299558082461,
          -13.72155690418096,
          -6.959887419512551,
          -6.609572620436266
         ]
        },
        {
         "name": "BGR",
         "showlegend": true,
         "title": {
          "text": "All"
         },
         "type": "scatter",
         "visible": true,
         "x": [
          "2021-07-06T00:00:00",
          "2021-07-05T00:00:00",
          "2021-07-04T00:00:00",
          "2021-07-03T00:00:00",
          "2021-07-02T00:00:00"
         ],
         "y": [
          138.61026308388912,
          -75.95732689170127,
          -110.2722670936305,
          -321.06816470163636,
          487.3365690338414
         ]
        },
        {
         "name": "CYP",
         "showlegend": true,
         "title": {
          "text": "All"
         },
         "type": "scatter",
         "visible": true,
         "x": [
          "2021-07-06T00:00:00",
          "2021-07-05T00:00:00",
          "2021-07-04T00:00:00",
          "2021-07-03T00:00:00",
          "2021-07-02T00:00:00"
         ],
         "y": [
          14.650999015881483,
          13.861827647650138,
          11.05600049398126,
          9.460616475517293,
          8.537993097225927
         ]
        },
        {
         "name": "CZE",
         "showlegend": true,
         "title": {
          "text": "All"
         },
         "type": "scatter",
         "visible": true,
         "x": [
          "2021-07-06T00:00:00",
          "2021-07-05T00:00:00",
          "2021-07-04T00:00:00",
          "2021-07-03T00:00:00",
          "2021-07-02T00:00:00"
         ],
         "y": [
          -340.0148570683854,
          -29.72193917531261,
          -28.10865462438771,
          -54.926566804263224,
          81.24724588245337
         ]
        },
        {
         "name": "DEU",
         "showlegend": true,
         "title": {
          "text": "All"
         },
         "type": "scatter",
         "visible": true,
         "x": [
          "2021-07-06T00:00:00",
          "2021-07-05T00:00:00",
          "2021-07-04T00:00:00",
          "2021-07-03T00:00:00",
          "2021-07-02T00:00:00"
         ],
         "y": [
          -667.0306375693542,
          -1373.6846327208614,
          -192.1353934486898,
          419.37035658253654,
          79.12476211995507
         ]
        },
        {
         "name": "DNK",
         "showlegend": true,
         "title": {
          "text": "All"
         },
         "type": "scatter",
         "visible": true,
         "x": [
          "2021-07-06T00:00:00",
          "2021-07-05T00:00:00",
          "2021-07-04T00:00:00",
          "2021-07-03T00:00:00",
          "2021-07-02T00:00:00"
         ],
         "y": [
          -3.457196784200559,
          -3.8075361641055663,
          -5.454658470533398,
          -5.36429831172357,
          -5.758010265845123
         ]
        },
        {
         "name": "ESP",
         "showlegend": true,
         "title": {
          "text": "All"
         },
         "type": "scatter",
         "visible": true,
         "x": [
          "2021-07-06T00:00:00",
          "2021-07-05T00:00:00",
          "2021-07-04T00:00:00",
          "2021-07-03T00:00:00",
          "2021-07-02T00:00:00"
         ],
         "y": [
          3.951375810953014,
          1952850910191462.8,
          7.976443850606473,
          2.36471069166963,
          1.5298339146047264
         ]
        },
        {
         "name": "EST",
         "showlegend": true,
         "title": {
          "text": "All"
         },
         "type": "scatter",
         "visible": true,
         "x": [
          "2021-07-06T00:00:00",
          "2021-07-05T00:00:00",
          "2021-07-04T00:00:00",
          "2021-07-03T00:00:00",
          "2021-07-02T00:00:00"
         ],
         "y": [
          -55.17298854606034,
          -123.02822307131389,
          -97.83129805589692,
          -15.364178078147315,
          -16.75814338072771
         ]
        },
        {
         "name": "FIN",
         "showlegend": true,
         "title": {
          "text": "All"
         },
         "type": "scatter",
         "visible": true,
         "x": [
          "2021-07-06T00:00:00",
          "2021-07-05T00:00:00",
          "2021-07-04T00:00:00",
          "2021-07-03T00:00:00",
          "2021-07-02T00:00:00"
         ],
         "y": [
          -107.50027250019194,
          22.358069962887864,
          -14.483413781877964,
          -7.352602477068101,
          -6.714847498885635
         ]
        },
        {
         "name": "FRA",
         "showlegend": true,
         "title": {
          "text": "All"
         },
         "type": "scatter",
         "visible": true,
         "x": [
          "2021-07-06T00:00:00",
          "2021-07-05T00:00:00",
          "2021-07-04T00:00:00",
          "2021-07-03T00:00:00",
          "2021-07-02T00:00:00"
         ],
         "y": [
          -19.80622940142942,
          -14.079262023645116,
          -16.56276374328099,
          -19.20872444133549,
          -32.33927621895338
         ]
        },
        {
         "name": "GRC",
         "showlegend": true,
         "title": {
          "text": "All"
         },
         "type": "scatter",
         "visible": true,
         "x": [
          "2021-07-06T00:00:00",
          "2021-07-05T00:00:00",
          "2021-07-04T00:00:00",
          "2021-07-03T00:00:00",
          "2021-07-02T00:00:00"
         ],
         "y": [
          -1.4485096180155528,
          -2.2924780714012036,
          -2.7862648518944377,
          -4.663961033245375,
          -9.894292513164363
         ]
        },
        {
         "name": "HRV",
         "showlegend": true,
         "title": {
          "text": "All"
         },
         "type": "scatter",
         "visible": true,
         "x": [
          "2021-07-06T00:00:00",
          "2021-07-05T00:00:00",
          "2021-07-04T00:00:00",
          "2021-07-03T00:00:00",
          "2021-07-02T00:00:00"
         ],
         "y": [
          -241.97531685626294,
          -37.90387810277964,
          -734.7505153157911,
          58.64445402447383,
          -15.622729909171497
         ]
        },
        {
         "name": "HUN",
         "showlegend": true,
         "title": {
          "text": "All"
         },
         "type": "scatter",
         "visible": true,
         "x": [
          "2021-07-06T00:00:00",
          "2021-07-05T00:00:00",
          "2021-07-04T00:00:00",
          "2021-07-03T00:00:00",
          "2021-07-02T00:00:00"
         ],
         "y": [
          20.925929313925113,
          20.989548359848175,
          null,
          57.22371138550984,
          25.410616975953843
         ]
        },
        {
         "name": "IRL",
         "showlegend": true,
         "title": {
          "text": "All"
         },
         "type": "scatter",
         "visible": true,
         "x": [
          "2021-07-06T00:00:00",
          "2021-07-05T00:00:00",
          "2021-07-04T00:00:00",
          "2021-07-03T00:00:00",
          "2021-07-02T00:00:00"
         ],
         "y": [
          3.9059137965959696,
          3.3865232759216055,
          3.3541121486149157,
          0.6223172340397455,
          -0.29123214092339733
         ]
        },
        {
         "name": "ISL",
         "showlegend": true,
         "title": {
          "text": "All"
         },
         "type": "scatter",
         "visible": true,
         "x": [
          "2021-07-06T00:00:00",
          "2021-07-05T00:00:00",
          "2021-07-04T00:00:00",
          "2021-07-03T00:00:00",
          "2021-07-02T00:00:00"
         ],
         "y": [
          37.555798421949234,
          -23878436919419700,
          -23878436919419700,
          40.970292066722294,
          40.30362540005578
         ]
        },
        {
         "name": "ITA",
         "showlegend": true,
         "title": {
          "text": "All"
         },
         "type": "scatter",
         "visible": true,
         "x": [
          "2021-07-06T00:00:00",
          "2021-07-05T00:00:00",
          "2021-07-04T00:00:00",
          "2021-07-03T00:00:00",
          "2021-07-02T00:00:00"
         ],
         "y": [
          -154.83670272929677,
          -155.92691116902253,
          -136.16487247929885,
          -27.43835398506153,
          -73.85598472379402
         ]
        },
        {
         "name": "LIE",
         "showlegend": true,
         "title": {
          "text": "All"
         },
         "type": "scatter",
         "visible": true,
         "x": [
          "2021-07-06T00:00:00",
          "2021-07-05T00:00:00",
          "2021-07-04T00:00:00",
          "2021-07-03T00:00:00",
          "2021-07-02T00:00:00"
         ],
         "y": [
          -763066860730180.5,
          -12.375411236221847,
          -3.6703895087607443,
          -8.260648337496546,
          -7.815569889379303
         ]
        },
        {
         "name": "LTU",
         "showlegend": true,
         "title": {
          "text": "All"
         },
         "type": "scatter",
         "visible": true,
         "x": [
          "2021-07-06T00:00:00",
          "2021-07-05T00:00:00",
          "2021-07-04T00:00:00",
          "2021-07-03T00:00:00",
          "2021-07-02T00:00:00"
         ],
         "y": [
          -82.29070579010559,
          -89.81065470302958,
          201.97424306826088,
          71.64171180067046,
          32.52612750640821
         ]
        },
        {
         "name": "LUX",
         "showlegend": true,
         "title": {
          "text": "All"
         },
         "type": "scatter",
         "visible": true,
         "x": [
          "2021-07-06T00:00:00",
          "2021-07-05T00:00:00",
          "2021-07-04T00:00:00",
          "2021-07-03T00:00:00",
          "2021-07-02T00:00:00"
         ],
         "y": [
          0.7286885440871006,
          0.019984798683017002,
          -0.5045627254814513,
          -2.0926218486026444,
          -1.9309370327611324
         ]
        },
        {
         "name": "LVA",
         "showlegend": true,
         "title": {
          "text": "All"
         },
         "type": "scatter",
         "visible": true,
         "x": [
          "2021-07-06T00:00:00",
          "2021-07-05T00:00:00",
          "2021-07-04T00:00:00",
          "2021-07-03T00:00:00",
          "2021-07-02T00:00:00"
         ],
         "y": [
          37.275713471544314,
          -62.857585004932204,
          -17.893649067154186,
          -12.95662892564857,
          -20.84106223019177
         ]
        },
        {
         "name": "MLT",
         "showlegend": true,
         "title": {
          "text": "All"
         },
         "type": "scatter",
         "visible": true,
         "x": [
          "2021-07-06T00:00:00",
          "2021-07-05T00:00:00",
          "2021-07-04T00:00:00",
          "2021-07-03T00:00:00",
          "2021-07-02T00:00:00"
         ],
         "y": [
          -9.385477412766921,
          -10.193124357109422,
          -27.63765020183869,
          -64.28982899043974,
          -20.601599843333787
         ]
        },
        {
         "name": "NLD",
         "showlegend": true,
         "title": {
          "text": "All"
         },
         "type": "scatter",
         "visible": true,
         "x": [
          "2021-07-06T00:00:00",
          "2021-07-05T00:00:00",
          "2021-07-04T00:00:00",
          "2021-07-03T00:00:00",
          "2021-07-02T00:00:00"
         ],
         "y": [
          -3.774912908159967,
          -5.219405374619381,
          -7.766711422437776,
          -15.310643600466939,
          -59.28961366311618
         ]
        },
        {
         "name": "NOR",
         "showlegend": true,
         "title": {
          "text": "All"
         },
         "type": "scatter",
         "visible": true,
         "x": [
          "2021-07-06T00:00:00",
          "2021-07-05T00:00:00",
          "2021-07-04T00:00:00",
          "2021-07-03T00:00:00",
          "2021-07-02T00:00:00"
         ],
         "y": [
          -22.86823892227906,
          -3895881952637144,
          44.716154686585874,
          58.09979213050529,
          -147.2331706233569
         ]
        },
        {
         "name": "POL",
         "showlegend": true,
         "title": {
          "text": "All"
         },
         "type": "scatter",
         "visible": true,
         "x": [
          "2021-07-06T00:00:00",
          "2021-07-05T00:00:00",
          "2021-07-04T00:00:00",
          "2021-07-03T00:00:00",
          "2021-07-02T00:00:00"
         ],
         "y": [
          158.35770282315409,
          859.9543055513792,
          157.88651254039308,
          53.451872158984706,
          43.3413620916038
         ]
        },
        {
         "name": "PRT",
         "showlegend": true,
         "title": {
          "text": "All"
         },
         "type": "scatter",
         "visible": true,
         "x": [
          "2021-07-06T00:00:00",
          "2021-07-05T00:00:00",
          "2021-07-04T00:00:00",
          "2021-07-03T00:00:00",
          "2021-07-02T00:00:00"
         ],
         "y": [
          25.84702206947454,
          16.142396339609103,
          11.930804958721376,
          10.94936276960643,
          8.949747744249354
         ]
        },
        {
         "name": "ROU",
         "showlegend": true,
         "title": {
          "text": "All"
         },
         "type": "scatter",
         "visible": true,
         "x": [
          "2021-07-06T00:00:00",
          "2021-07-05T00:00:00",
          "2021-07-04T00:00:00",
          "2021-07-03T00:00:00",
          "2021-07-02T00:00:00"
         ],
         "y": [
          98.8274354852178,
          129.77589991396303,
          71.80608452999029,
          36.15945909031566,
          48.02900364404754
         ]
        },
        {
         "name": "SVK",
         "showlegend": true,
         "title": {
          "text": "All"
         },
         "type": "scatter",
         "visible": true,
         "x": [
          "2021-07-06T00:00:00",
          "2021-07-05T00:00:00",
          "2021-07-04T00:00:00",
          "2021-07-03T00:00:00",
          "2021-07-02T00:00:00"
         ],
         "y": [
          25.472786766706882,
          23.07911553332974,
          82.03087189202552,
          17.831059423445573,
          11.84597658765404
         ]
        },
        {
         "name": "SVN",
         "showlegend": true,
         "title": {
          "text": "All"
         },
         "type": "scatter",
         "visible": true,
         "x": [
          "2021-07-06T00:00:00",
          "2021-07-05T00:00:00",
          "2021-07-04T00:00:00",
          "2021-07-03T00:00:00",
          "2021-07-02T00:00:00"
         ],
         "y": [
          -81.88363506724019,
          41.87527917427104,
          16.556207767771237,
          14.036039868136807,
          -337.2036665282244
         ]
        },
        {
         "name": "SWE",
         "showlegend": true,
         "title": {
          "text": "All"
         },
         "type": "scatter",
         "visible": true,
         "x": [
          "2021-07-06T00:00:00",
          "2021-07-05T00:00:00",
          "2021-07-04T00:00:00",
          "2021-07-03T00:00:00",
          "2021-07-02T00:00:00"
         ],
         "y": [
          3.7236748560179365,
          5.660814915261541,
          -5723299604602441,
          -5723299604602441,
          418.01352341446557
         ]
        }
       ],
       "layout": {
        "autosize": true,
        "template": {
         "data": {
          "bar": [
           {
            "error_x": {
             "color": "#2a3f5f"
            },
            "error_y": {
             "color": "#2a3f5f"
            },
            "marker": {
             "line": {
              "color": "#E5ECF6",
              "width": 0.5
             },
             "pattern": {
              "fillmode": "overlay",
              "size": 10,
              "solidity": 0.2
             }
            },
            "type": "bar"
           }
          ],
          "barpolar": [
           {
            "marker": {
             "line": {
              "color": "#E5ECF6",
              "width": 0.5
             },
             "pattern": {
              "fillmode": "overlay",
              "size": 10,
              "solidity": 0.2
             }
            },
            "type": "barpolar"
           }
          ],
          "carpet": [
           {
            "aaxis": {
             "endlinecolor": "#2a3f5f",
             "gridcolor": "white",
             "linecolor": "white",
             "minorgridcolor": "white",
             "startlinecolor": "#2a3f5f"
            },
            "baxis": {
             "endlinecolor": "#2a3f5f",
             "gridcolor": "white",
             "linecolor": "white",
             "minorgridcolor": "white",
             "startlinecolor": "#2a3f5f"
            },
            "type": "carpet"
           }
          ],
          "choropleth": [
           {
            "colorbar": {
             "outlinewidth": 0,
             "ticks": ""
            },
            "type": "choropleth"
           }
          ],
          "contour": [
           {
            "colorbar": {
             "outlinewidth": 0,
             "ticks": ""
            },
            "colorscale": [
             [
              0,
              "#0d0887"
             ],
             [
              0.1111111111111111,
              "#46039f"
             ],
             [
              0.2222222222222222,
              "#7201a8"
             ],
             [
              0.3333333333333333,
              "#9c179e"
             ],
             [
              0.4444444444444444,
              "#bd3786"
             ],
             [
              0.5555555555555556,
              "#d8576b"
             ],
             [
              0.6666666666666666,
              "#ed7953"
             ],
             [
              0.7777777777777778,
              "#fb9f3a"
             ],
             [
              0.8888888888888888,
              "#fdca26"
             ],
             [
              1,
              "#f0f921"
             ]
            ],
            "type": "contour"
           }
          ],
          "contourcarpet": [
           {
            "colorbar": {
             "outlinewidth": 0,
             "ticks": ""
            },
            "type": "contourcarpet"
           }
          ],
          "heatmap": [
           {
            "colorbar": {
             "outlinewidth": 0,
             "ticks": ""
            },
            "colorscale": [
             [
              0,
              "#0d0887"
             ],
             [
              0.1111111111111111,
              "#46039f"
             ],
             [
              0.2222222222222222,
              "#7201a8"
             ],
             [
              0.3333333333333333,
              "#9c179e"
             ],
             [
              0.4444444444444444,
              "#bd3786"
             ],
             [
              0.5555555555555556,
              "#d8576b"
             ],
             [
              0.6666666666666666,
              "#ed7953"
             ],
             [
              0.7777777777777778,
              "#fb9f3a"
             ],
             [
              0.8888888888888888,
              "#fdca26"
             ],
             [
              1,
              "#f0f921"
             ]
            ],
            "type": "heatmap"
           }
          ],
          "heatmapgl": [
           {
            "colorbar": {
             "outlinewidth": 0,
             "ticks": ""
            },
            "colorscale": [
             [
              0,
              "#0d0887"
             ],
             [
              0.1111111111111111,
              "#46039f"
             ],
             [
              0.2222222222222222,
              "#7201a8"
             ],
             [
              0.3333333333333333,
              "#9c179e"
             ],
             [
              0.4444444444444444,
              "#bd3786"
             ],
             [
              0.5555555555555556,
              "#d8576b"
             ],
             [
              0.6666666666666666,
              "#ed7953"
             ],
             [
              0.7777777777777778,
              "#fb9f3a"
             ],
             [
              0.8888888888888888,
              "#fdca26"
             ],
             [
              1,
              "#f0f921"
             ]
            ],
            "type": "heatmapgl"
           }
          ],
          "histogram": [
           {
            "marker": {
             "pattern": {
              "fillmode": "overlay",
              "size": 10,
              "solidity": 0.2
             }
            },
            "type": "histogram"
           }
          ],
          "histogram2d": [
           {
            "colorbar": {
             "outlinewidth": 0,
             "ticks": ""
            },
            "colorscale": [
             [
              0,
              "#0d0887"
             ],
             [
              0.1111111111111111,
              "#46039f"
             ],
             [
              0.2222222222222222,
              "#7201a8"
             ],
             [
              0.3333333333333333,
              "#9c179e"
             ],
             [
              0.4444444444444444,
              "#bd3786"
             ],
             [
              0.5555555555555556,
              "#d8576b"
             ],
             [
              0.6666666666666666,
              "#ed7953"
             ],
             [
              0.7777777777777778,
              "#fb9f3a"
             ],
             [
              0.8888888888888888,
              "#fdca26"
             ],
             [
              1,
              "#f0f921"
             ]
            ],
            "type": "histogram2d"
           }
          ],
          "histogram2dcontour": [
           {
            "colorbar": {
             "outlinewidth": 0,
             "ticks": ""
            },
            "colorscale": [
             [
              0,
              "#0d0887"
             ],
             [
              0.1111111111111111,
              "#46039f"
             ],
             [
              0.2222222222222222,
              "#7201a8"
             ],
             [
              0.3333333333333333,
              "#9c179e"
             ],
             [
              0.4444444444444444,
              "#bd3786"
             ],
             [
              0.5555555555555556,
              "#d8576b"
             ],
             [
              0.6666666666666666,
              "#ed7953"
             ],
             [
              0.7777777777777778,
              "#fb9f3a"
             ],
             [
              0.8888888888888888,
              "#fdca26"
             ],
             [
              1,
              "#f0f921"
             ]
            ],
            "type": "histogram2dcontour"
           }
          ],
          "mesh3d": [
           {
            "colorbar": {
             "outlinewidth": 0,
             "ticks": ""
            },
            "type": "mesh3d"
           }
          ],
          "parcoords": [
           {
            "line": {
             "colorbar": {
              "outlinewidth": 0,
              "ticks": ""
             }
            },
            "type": "parcoords"
           }
          ],
          "pie": [
           {
            "automargin": true,
            "type": "pie"
           }
          ],
          "scatter": [
           {
            "marker": {
             "colorbar": {
              "outlinewidth": 0,
              "ticks": ""
             }
            },
            "type": "scatter"
           }
          ],
          "scatter3d": [
           {
            "line": {
             "colorbar": {
              "outlinewidth": 0,
              "ticks": ""
             }
            },
            "marker": {
             "colorbar": {
              "outlinewidth": 0,
              "ticks": ""
             }
            },
            "type": "scatter3d"
           }
          ],
          "scattercarpet": [
           {
            "marker": {
             "colorbar": {
              "outlinewidth": 0,
              "ticks": ""
             }
            },
            "type": "scattercarpet"
           }
          ],
          "scattergeo": [
           {
            "marker": {
             "colorbar": {
              "outlinewidth": 0,
              "ticks": ""
             }
            },
            "type": "scattergeo"
           }
          ],
          "scattergl": [
           {
            "marker": {
             "colorbar": {
              "outlinewidth": 0,
              "ticks": ""
             }
            },
            "type": "scattergl"
           }
          ],
          "scattermapbox": [
           {
            "marker": {
             "colorbar": {
              "outlinewidth": 0,
              "ticks": ""
             }
            },
            "type": "scattermapbox"
           }
          ],
          "scatterpolar": [
           {
            "marker": {
             "colorbar": {
              "outlinewidth": 0,
              "ticks": ""
             }
            },
            "type": "scatterpolar"
           }
          ],
          "scatterpolargl": [
           {
            "marker": {
             "colorbar": {
              "outlinewidth": 0,
              "ticks": ""
             }
            },
            "type": "scatterpolargl"
           }
          ],
          "scatterternary": [
           {
            "marker": {
             "colorbar": {
              "outlinewidth": 0,
              "ticks": ""
             }
            },
            "type": "scatterternary"
           }
          ],
          "surface": [
           {
            "colorbar": {
             "outlinewidth": 0,
             "ticks": ""
            },
            "colorscale": [
             [
              0,
              "#0d0887"
             ],
             [
              0.1111111111111111,
              "#46039f"
             ],
             [
              0.2222222222222222,
              "#7201a8"
             ],
             [
              0.3333333333333333,
              "#9c179e"
             ],
             [
              0.4444444444444444,
              "#bd3786"
             ],
             [
              0.5555555555555556,
              "#d8576b"
             ],
             [
              0.6666666666666666,
              "#ed7953"
             ],
             [
              0.7777777777777778,
              "#fb9f3a"
             ],
             [
              0.8888888888888888,
              "#fdca26"
             ],
             [
              1,
              "#f0f921"
             ]
            ],
            "type": "surface"
           }
          ],
          "table": [
           {
            "cells": {
             "fill": {
              "color": "#EBF0F8"
             },
             "line": {
              "color": "white"
             }
            },
            "header": {
             "fill": {
              "color": "#C8D4E3"
             },
             "line": {
              "color": "white"
             }
            },
            "type": "table"
           }
          ]
         },
         "layout": {
          "annotationdefaults": {
           "arrowcolor": "#2a3f5f",
           "arrowhead": 0,
           "arrowwidth": 1
          },
          "autotypenumbers": "strict",
          "coloraxis": {
           "colorbar": {
            "outlinewidth": 0,
            "ticks": ""
           }
          },
          "colorscale": {
           "diverging": [
            [
             0,
             "#8e0152"
            ],
            [
             0.1,
             "#c51b7d"
            ],
            [
             0.2,
             "#de77ae"
            ],
            [
             0.3,
             "#f1b6da"
            ],
            [
             0.4,
             "#fde0ef"
            ],
            [
             0.5,
             "#f7f7f7"
            ],
            [
             0.6,
             "#e6f5d0"
            ],
            [
             0.7,
             "#b8e186"
            ],
            [
             0.8,
             "#7fbc41"
            ],
            [
             0.9,
             "#4d9221"
            ],
            [
             1,
             "#276419"
            ]
           ],
           "sequential": [
            [
             0,
             "#0d0887"
            ],
            [
             0.1111111111111111,
             "#46039f"
            ],
            [
             0.2222222222222222,
             "#7201a8"
            ],
            [
             0.3333333333333333,
             "#9c179e"
            ],
            [
             0.4444444444444444,
             "#bd3786"
            ],
            [
             0.5555555555555556,
             "#d8576b"
            ],
            [
             0.6666666666666666,
             "#ed7953"
            ],
            [
             0.7777777777777778,
             "#fb9f3a"
            ],
            [
             0.8888888888888888,
             "#fdca26"
            ],
            [
             1,
             "#f0f921"
            ]
           ],
           "sequentialminus": [
            [
             0,
             "#0d0887"
            ],
            [
             0.1111111111111111,
             "#46039f"
            ],
            [
             0.2222222222222222,
             "#7201a8"
            ],
            [
             0.3333333333333333,
             "#9c179e"
            ],
            [
             0.4444444444444444,
             "#bd3786"
            ],
            [
             0.5555555555555556,
             "#d8576b"
            ],
            [
             0.6666666666666666,
             "#ed7953"
            ],
            [
             0.7777777777777778,
             "#fb9f3a"
            ],
            [
             0.8888888888888888,
             "#fdca26"
            ],
            [
             1,
             "#f0f921"
            ]
           ]
          },
          "colorway": [
           "#636efa",
           "#EF553B",
           "#00cc96",
           "#ab63fa",
           "#FFA15A",
           "#19d3f3",
           "#FF6692",
           "#B6E880",
           "#FF97FF",
           "#FECB52"
          ],
          "font": {
           "color": "#2a3f5f"
          },
          "geo": {
           "bgcolor": "white",
           "lakecolor": "white",
           "landcolor": "#E5ECF6",
           "showlakes": true,
           "showland": true,
           "subunitcolor": "white"
          },
          "hoverlabel": {
           "align": "left"
          },
          "hovermode": "closest",
          "mapbox": {
           "style": "light"
          },
          "paper_bgcolor": "white",
          "plot_bgcolor": "#E5ECF6",
          "polar": {
           "angularaxis": {
            "gridcolor": "white",
            "linecolor": "white",
            "ticks": ""
           },
           "bgcolor": "#E5ECF6",
           "radialaxis": {
            "gridcolor": "white",
            "linecolor": "white",
            "ticks": ""
           }
          },
          "scene": {
           "xaxis": {
            "backgroundcolor": "#E5ECF6",
            "gridcolor": "white",
            "gridwidth": 2,
            "linecolor": "white",
            "showbackground": true,
            "ticks": "",
            "zerolinecolor": "white"
           },
           "yaxis": {
            "backgroundcolor": "#E5ECF6",
            "gridcolor": "white",
            "gridwidth": 2,
            "linecolor": "white",
            "showbackground": true,
            "ticks": "",
            "zerolinecolor": "white"
           },
           "zaxis": {
            "backgroundcolor": "#E5ECF6",
            "gridcolor": "white",
            "gridwidth": 2,
            "linecolor": "white",
            "showbackground": true,
            "ticks": "",
            "zerolinecolor": "white"
           }
          },
          "shapedefaults": {
           "line": {
            "color": "#2a3f5f"
           }
          },
          "ternary": {
           "aaxis": {
            "gridcolor": "white",
            "linecolor": "white",
            "ticks": ""
           },
           "baxis": {
            "gridcolor": "white",
            "linecolor": "white",
            "ticks": ""
           },
           "bgcolor": "#E5ECF6",
           "caxis": {
            "gridcolor": "white",
            "linecolor": "white",
            "ticks": ""
           }
          },
          "title": {
           "x": 0.05
          },
          "xaxis": {
           "automargin": true,
           "gridcolor": "white",
           "linecolor": "white",
           "ticks": "",
           "title": {
            "standoff": 15
           },
           "zerolinecolor": "white",
           "zerolinewidth": 2
          },
          "yaxis": {
           "automargin": true,
           "gridcolor": "white",
           "linecolor": "white",
           "ticks": "",
           "title": {
            "standoff": 15
           },
           "zerolinecolor": "white",
           "zerolinewidth": 2
          }
         }
        },
        "title": {
         "text": "Days to 50 incidents per 100.000 inhabitants"
        },
        "updatemenus": [
         {
          "active": 0,
          "buttons": [
           {
            "args": [
             {
              "showlegend": true,
              "title": "All",
              "visible": [
               true,
               true,
               true,
               true,
               true,
               true,
               true,
               true,
               true,
               true,
               true,
               true,
               true,
               true,
               true,
               true,
               true,
               true,
               true,
               true,
               true,
               true,
               true,
               true,
               true,
               true,
               true,
               true,
               true,
               true
              ]
             }
            ],
            "label": "All",
            "method": "update"
           },
           {
            "args": [
             {
              "showlegend": true,
              "title": "AUT",
              "visible": [
               true,
               false,
               false,
               false,
               false,
               false,
               false,
               false,
               false,
               false,
               false,
               false,
               false,
               false,
               false,
               false,
               false,
               false,
               false,
               false,
               false,
               false,
               false,
               false,
               false,
               false,
               false,
               false,
               false,
               false
              ]
             }
            ],
            "label": "AUT",
            "method": "update"
           },
           {
            "args": [
             {
              "showlegend": true,
              "title": "BEL",
              "visible": [
               false,
               true,
               false,
               false,
               false,
               false,
               false,
               false,
               false,
               false,
               false,
               false,
               false,
               false,
               false,
               false,
               false,
               false,
               false,
               false,
               false,
               false,
               false,
               false,
               false,
               false,
               false,
               false,
               false,
               false
              ]
             }
            ],
            "label": "BEL",
            "method": "update"
           },
           {
            "args": [
             {
              "showlegend": true,
              "title": "BGR",
              "visible": [
               false,
               false,
               true,
               false,
               false,
               false,
               false,
               false,
               false,
               false,
               false,
               false,
               false,
               false,
               false,
               false,
               false,
               false,
               false,
               false,
               false,
               false,
               false,
               false,
               false,
               false,
               false,
               false,
               false,
               false
              ]
             }
            ],
            "label": "BGR",
            "method": "update"
           },
           {
            "args": [
             {
              "showlegend": true,
              "title": "CYP",
              "visible": [
               false,
               false,
               false,
               true,
               false,
               false,
               false,
               false,
               false,
               false,
               false,
               false,
               false,
               false,
               false,
               false,
               false,
               false,
               false,
               false,
               false,
               false,
               false,
               false,
               false,
               false,
               false,
               false,
               false,
               false
              ]
             }
            ],
            "label": "CYP",
            "method": "update"
           },
           {
            "args": [
             {
              "showlegend": true,
              "title": "CZE",
              "visible": [
               false,
               false,
               false,
               false,
               true,
               false,
               false,
               false,
               false,
               false,
               false,
               false,
               false,
               false,
               false,
               false,
               false,
               false,
               false,
               false,
               false,
               false,
               false,
               false,
               false,
               false,
               false,
               false,
               false,
               false
              ]
             }
            ],
            "label": "CZE",
            "method": "update"
           },
           {
            "args": [
             {
              "showlegend": true,
              "title": "DEU",
              "visible": [
               false,
               false,
               false,
               false,
               false,
               true,
               false,
               false,
               false,
               false,
               false,
               false,
               false,
               false,
               false,
               false,
               false,
               false,
               false,
               false,
               false,
               false,
               false,
               false,
               false,
               false,
               false,
               false,
               false,
               false
              ]
             }
            ],
            "label": "DEU",
            "method": "update"
           },
           {
            "args": [
             {
              "showlegend": true,
              "title": "DNK",
              "visible": [
               false,
               false,
               false,
               false,
               false,
               false,
               true,
               false,
               false,
               false,
               false,
               false,
               false,
               false,
               false,
               false,
               false,
               false,
               false,
               false,
               false,
               false,
               false,
               false,
               false,
               false,
               false,
               false,
               false,
               false
              ]
             }
            ],
            "label": "DNK",
            "method": "update"
           },
           {
            "args": [
             {
              "showlegend": true,
              "title": "ESP",
              "visible": [
               false,
               false,
               false,
               false,
               false,
               false,
               false,
               true,
               false,
               false,
               false,
               false,
               false,
               false,
               false,
               false,
               false,
               false,
               false,
               false,
               false,
               false,
               false,
               false,
               false,
               false,
               false,
               false,
               false,
               false
              ]
             }
            ],
            "label": "ESP",
            "method": "update"
           },
           {
            "args": [
             {
              "showlegend": true,
              "title": "EST",
              "visible": [
               false,
               false,
               false,
               false,
               false,
               false,
               false,
               false,
               true,
               false,
               false,
               false,
               false,
               false,
               false,
               false,
               false,
               false,
               false,
               false,
               false,
               false,
               false,
               false,
               false,
               false,
               false,
               false,
               false,
               false
              ]
             }
            ],
            "label": "EST",
            "method": "update"
           },
           {
            "args": [
             {
              "showlegend": true,
              "title": "FIN",
              "visible": [
               false,
               false,
               false,
               false,
               false,
               false,
               false,
               false,
               false,
               true,
               false,
               false,
               false,
               false,
               false,
               false,
               false,
               false,
               false,
               false,
               false,
               false,
               false,
               false,
               false,
               false,
               false,
               false,
               false,
               false
              ]
             }
            ],
            "label": "FIN",
            "method": "update"
           },
           {
            "args": [
             {
              "showlegend": true,
              "title": "FRA",
              "visible": [
               false,
               false,
               false,
               false,
               false,
               false,
               false,
               false,
               false,
               false,
               true,
               false,
               false,
               false,
               false,
               false,
               false,
               false,
               false,
               false,
               false,
               false,
               false,
               false,
               false,
               false,
               false,
               false,
               false,
               false
              ]
             }
            ],
            "label": "FRA",
            "method": "update"
           },
           {
            "args": [
             {
              "showlegend": true,
              "title": "GRC",
              "visible": [
               false,
               false,
               false,
               false,
               false,
               false,
               false,
               false,
               false,
               false,
               false,
               true,
               false,
               false,
               false,
               false,
               false,
               false,
               false,
               false,
               false,
               false,
               false,
               false,
               false,
               false,
               false,
               false,
               false,
               false
              ]
             }
            ],
            "label": "GRC",
            "method": "update"
           },
           {
            "args": [
             {
              "showlegend": true,
              "title": "HRV",
              "visible": [
               false,
               false,
               false,
               false,
               false,
               false,
               false,
               false,
               false,
               false,
               false,
               false,
               true,
               false,
               false,
               false,
               false,
               false,
               false,
               false,
               false,
               false,
               false,
               false,
               false,
               false,
               false,
               false,
               false,
               false
              ]
             }
            ],
            "label": "HRV",
            "method": "update"
           },
           {
            "args": [
             {
              "showlegend": true,
              "title": "HUN",
              "visible": [
               false,
               false,
               false,
               false,
               false,
               false,
               false,
               false,
               false,
               false,
               false,
               false,
               false,
               true,
               false,
               false,
               false,
               false,
               false,
               false,
               false,
               false,
               false,
               false,
               false,
               false,
               false,
               false,
               false,
               false
              ]
             }
            ],
            "label": "HUN",
            "method": "update"
           },
           {
            "args": [
             {
              "showlegend": true,
              "title": "IRL",
              "visible": [
               false,
               false,
               false,
               false,
               false,
               false,
               false,
               false,
               false,
               false,
               false,
               false,
               false,
               false,
               true,
               false,
               false,
               false,
               false,
               false,
               false,
               false,
               false,
               false,
               false,
               false,
               false,
               false,
               false,
               false
              ]
             }
            ],
            "label": "IRL",
            "method": "update"
           },
           {
            "args": [
             {
              "showlegend": true,
              "title": "ISL",
              "visible": [
               false,
               false,
               false,
               false,
               false,
               false,
               false,
               false,
               false,
               false,
               false,
               false,
               false,
               false,
               false,
               true,
               false,
               false,
               false,
               false,
               false,
               false,
               false,
               false,
               false,
               false,
               false,
               false,
               false,
               false
              ]
             }
            ],
            "label": "ISL",
            "method": "update"
           },
           {
            "args": [
             {
              "showlegend": true,
              "title": "ITA",
              "visible": [
               false,
               false,
               false,
               false,
               false,
               false,
               false,
               false,
               false,
               false,
               false,
               false,
               false,
               false,
               false,
               false,
               true,
               false,
               false,
               false,
               false,
               false,
               false,
               false,
               false,
               false,
               false,
               false,
               false,
               false
              ]
             }
            ],
            "label": "ITA",
            "method": "update"
           },
           {
            "args": [
             {
              "showlegend": true,
              "title": "LIE",
              "visible": [
               false,
               false,
               false,
               false,
               false,
               false,
               false,
               false,
               false,
               false,
               false,
               false,
               false,
               false,
               false,
               false,
               false,
               true,
               false,
               false,
               false,
               false,
               false,
               false,
               false,
               false,
               false,
               false,
               false,
               false
              ]
             }
            ],
            "label": "LIE",
            "method": "update"
           },
           {
            "args": [
             {
              "showlegend": true,
              "title": "LTU",
              "visible": [
               false,
               false,
               false,
               false,
               false,
               false,
               false,
               false,
               false,
               false,
               false,
               false,
               false,
               false,
               false,
               false,
               false,
               false,
               true,
               false,
               false,
               false,
               false,
               false,
               false,
               false,
               false,
               false,
               false,
               false
              ]
             }
            ],
            "label": "LTU",
            "method": "update"
           },
           {
            "args": [
             {
              "showlegend": true,
              "title": "LUX",
              "visible": [
               false,
               false,
               false,
               false,
               false,
               false,
               false,
               false,
               false,
               false,
               false,
               false,
               false,
               false,
               false,
               false,
               false,
               false,
               false,
               true,
               false,
               false,
               false,
               false,
               false,
               false,
               false,
               false,
               false,
               false
              ]
             }
            ],
            "label": "LUX",
            "method": "update"
           },
           {
            "args": [
             {
              "showlegend": true,
              "title": "LVA",
              "visible": [
               false,
               false,
               false,
               false,
               false,
               false,
               false,
               false,
               false,
               false,
               false,
               false,
               false,
               false,
               false,
               false,
               false,
               false,
               false,
               false,
               true,
               false,
               false,
               false,
               false,
               false,
               false,
               false,
               false,
               false
              ]
             }
            ],
            "label": "LVA",
            "method": "update"
           },
           {
            "args": [
             {
              "showlegend": true,
              "title": "MLT",
              "visible": [
               false,
               false,
               false,
               false,
               false,
               false,
               false,
               false,
               false,
               false,
               false,
               false,
               false,
               false,
               false,
               false,
               false,
               false,
               false,
               false,
               false,
               true,
               false,
               false,
               false,
               false,
               false,
               false,
               false,
               false
              ]
             }
            ],
            "label": "MLT",
            "method": "update"
           },
           {
            "args": [
             {
              "showlegend": true,
              "title": "NLD",
              "visible": [
               false,
               false,
               false,
               false,
               false,
               false,
               false,
               false,
               false,
               false,
               false,
               false,
               false,
               false,
               false,
               false,
               false,
               false,
               false,
               false,
               false,
               false,
               true,
               false,
               false,
               false,
               false,
               false,
               false,
               false
              ]
             }
            ],
            "label": "NLD",
            "method": "update"
           },
           {
            "args": [
             {
              "showlegend": true,
              "title": "NOR",
              "visible": [
               false,
               false,
               false,
               false,
               false,
               false,
               false,
               false,
               false,
               false,
               false,
               false,
               false,
               false,
               false,
               false,
               false,
               false,
               false,
               false,
               false,
               false,
               false,
               true,
               false,
               false,
               false,
               false,
               false,
               false
              ]
             }
            ],
            "label": "NOR",
            "method": "update"
           },
           {
            "args": [
             {
              "showlegend": true,
              "title": "POL",
              "visible": [
               false,
               false,
               false,
               false,
               false,
               false,
               false,
               false,
               false,
               false,
               false,
               false,
               false,
               false,
               false,
               false,
               false,
               false,
               false,
               false,
               false,
               false,
               false,
               false,
               true,
               false,
               false,
               false,
               false,
               false
              ]
             }
            ],
            "label": "POL",
            "method": "update"
           },
           {
            "args": [
             {
              "showlegend": true,
              "title": "PRT",
              "visible": [
               false,
               false,
               false,
               false,
               false,
               false,
               false,
               false,
               false,
               false,
               false,
               false,
               false,
               false,
               false,
               false,
               false,
               false,
               false,
               false,
               false,
               false,
               false,
               false,
               false,
               true,
               false,
               false,
               false,
               false
              ]
             }
            ],
            "label": "PRT",
            "method": "update"
           },
           {
            "args": [
             {
              "showlegend": true,
              "title": "ROU",
              "visible": [
               false,
               false,
               false,
               false,
               false,
               false,
               false,
               false,
               false,
               false,
               false,
               false,
               false,
               false,
               false,
               false,
               false,
               false,
               false,
               false,
               false,
               false,
               false,
               false,
               false,
               false,
               true,
               false,
               false,
               false
              ]
             }
            ],
            "label": "ROU",
            "method": "update"
           },
           {
            "args": [
             {
              "showlegend": true,
              "title": "SVK",
              "visible": [
               false,
               false,
               false,
               false,
               false,
               false,
               false,
               false,
               false,
               false,
               false,
               false,
               false,
               false,
               false,
               false,
               false,
               false,
               false,
               false,
               false,
               false,
               false,
               false,
               false,
               false,
               false,
               true,
               false,
               false
              ]
             }
            ],
            "label": "SVK",
            "method": "update"
           },
           {
            "args": [
             {
              "showlegend": true,
              "title": "SVN",
              "visible": [
               false,
               false,
               false,
               false,
               false,
               false,
               false,
               false,
               false,
               false,
               false,
               false,
               false,
               false,
               false,
               false,
               false,
               false,
               false,
               false,
               false,
               false,
               false,
               false,
               false,
               false,
               false,
               false,
               true,
               false
              ]
             }
            ],
            "label": "SVN",
            "method": "update"
           },
           {
            "args": [
             {
              "showlegend": true,
              "title": "SWE",
              "visible": [
               false,
               false,
               false,
               false,
               false,
               false,
               false,
               false,
               false,
               false,
               false,
               false,
               false,
               false,
               false,
               false,
               false,
               false,
               false,
               false,
               false,
               false,
               false,
               false,
               false,
               false,
               false,
               false,
               false,
               true
              ]
             }
            ],
            "label": "SWE",
            "method": "update"
           }
          ]
         }
        ],
        "xaxis": {
         "autorange": true,
         "range": [
          "2021-07-01 18:17:48.516",
          "2021-07-06 05:42:11.4841"
         ],
         "type": "date"
        },
        "yaxis": {
         "autorange": true,
         "range": [
          -26010145138368196,
          4084559129139957
         ],
         "type": "linear"
        }
       }
      },
      "image/png": "[encoded data removed]",
      "text/html": [
       "<div>                            <div id=\"e05c284f-b9a5-448e-99ba-eae5c1690350\" class=\"plotly-graph-div\" style=\"height:525px; width:100%;\"></div>            <script type=\"text/javascript\">                require([\"plotly\"], function(Plotly) {                    window.PLOTLYENV=window.PLOTLYENV || {};                                    if (document.getElementById(\"e05c284f-b9a5-448e-99ba-eae5c1690350\")) {                    Plotly.newPlot(                        \"e05c284f-b9a5-448e-99ba-eae5c1690350\",                        [{\"name\":\"AUT\",\"type\":\"scatter\",\"x\":[\"2021-07-06T00:00:00\",\"2021-07-05T00:00:00\",\"2021-07-04T00:00:00\",\"2021-07-03T00:00:00\",\"2021-07-02T00:00:00\"],\"y\":[101.0619442493031,-113.33355902825193,-38.67070470115583,-1243.2157712793257,18.053280077944375]},{\"name\":\"BEL\",\"type\":\"scatter\",\"x\":[\"2021-07-06T00:00:00\",\"2021-07-05T00:00:00\",\"2021-07-04T00:00:00\",\"2021-07-03T00:00:00\",\"2021-07-02T00:00:00\"],\"y\":[2.3118393001405493,4.645299558082461,-13.72155690418096,-6.959887419512551,-6.609572620436266]},{\"name\":\"BGR\",\"type\":\"scatter\",\"x\":[\"2021-07-06T00:00:00\",\"2021-07-05T00:00:00\",\"2021-07-04T00:00:00\",\"2021-07-03T00:00:00\",\"2021-07-02T00:00:00\"],\"y\":[138.61026308388912,-75.95732689170127,-110.2722670936305,-321.06816470163636,487.3365690338414]},{\"name\":\"CYP\",\"type\":\"scatter\",\"x\":[\"2021-07-06T00:00:00\",\"2021-07-05T00:00:00\",\"2021-07-04T00:00:00\",\"2021-07-03T00:00:00\",\"2021-07-02T00:00:00\"],\"y\":[14.650999015881483,13.861827647650138,11.05600049398126,9.460616475517293,8.537993097225927]},{\"name\":\"CZE\",\"type\":\"scatter\",\"x\":[\"2021-07-06T00:00:00\",\"2021-07-05T00:00:00\",\"2021-07-04T00:00:00\",\"2021-07-03T00:00:00\",\"2021-07-02T00:00:00\"],\"y\":[-340.0148570683854,-29.72193917531261,-28.10865462438771,-54.926566804263224,81.24724588245337]},{\"name\":\"DEU\",\"type\":\"scatter\",\"x\":[\"2021-07-06T00:00:00\",\"2021-07-05T00:00:00\",\"2021-07-04T00:00:00\",\"2021-07-03T00:00:00\",\"2021-07-02T00:00:00\"],\"y\":[-667.0306375693542,-1373.6846327208614,-192.1353934486898,419.37035658253654,79.12476211995507]},{\"name\":\"DNK\",\"type\":\"scatter\",\"x\":[\"2021-07-06T00:00:00\",\"2021-07-05T00:00:00\",\"2021-07-04T00:00:00\",\"2021-07-03T00:00:00\",\"2021-07-02T00:00:00\"],\"y\":[-3.457196784200559,-3.8075361641055663,-5.454658470533398,-5.36429831172357,-5.758010265845123]},{\"name\":\"ESP\",\"type\":\"scatter\",\"x\":[\"2021-07-06T00:00:00\",\"2021-07-05T00:00:00\",\"2021-07-04T00:00:00\",\"2021-07-03T00:00:00\",\"2021-07-02T00:00:00\"],\"y\":[3.951375810953014,1952850910191462.8,7.976443850606473,2.36471069166963,1.5298339146047264]},{\"name\":\"EST\",\"type\":\"scatter\",\"x\":[\"2021-07-06T00:00:00\",\"2021-07-05T00:00:00\",\"2021-07-04T00:00:00\",\"2021-07-03T00:00:00\",\"2021-07-02T00:00:00\"],\"y\":[-55.17298854606034,-123.02822307131389,-97.83129805589692,-15.364178078147315,-16.75814338072771]},{\"name\":\"FIN\",\"type\":\"scatter\",\"x\":[\"2021-07-06T00:00:00\",\"2021-07-05T00:00:00\",\"2021-07-04T00:00:00\",\"2021-07-03T00:00:00\",\"2021-07-02T00:00:00\"],\"y\":[-107.50027250019194,22.358069962887864,-14.483413781877964,-7.352602477068101,-6.714847498885635]},{\"name\":\"FRA\",\"type\":\"scatter\",\"x\":[\"2021-07-06T00:00:00\",\"2021-07-05T00:00:00\",\"2021-07-04T00:00:00\",\"2021-07-03T00:00:00\",\"2021-07-02T00:00:00\"],\"y\":[-19.80622940142942,-14.079262023645116,-16.56276374328099,-19.20872444133549,-32.33927621895338]},{\"name\":\"GRC\",\"type\":\"scatter\",\"x\":[\"2021-07-06T00:00:00\",\"2021-07-05T00:00:00\",\"2021-07-04T00:00:00\",\"2021-07-03T00:00:00\",\"2021-07-02T00:00:00\"],\"y\":[-1.4485096180155528,-2.2924780714012036,-2.7862648518944377,-4.663961033245375,-9.894292513164363]},{\"name\":\"HRV\",\"type\":\"scatter\",\"x\":[\"2021-07-06T00:00:00\",\"2021-07-05T00:00:00\",\"2021-07-04T00:00:00\",\"2021-07-03T00:00:00\",\"2021-07-02T00:00:00\"],\"y\":[-241.97531685626294,-37.90387810277964,-734.7505153157911,58.64445402447383,-15.622729909171497]},{\"name\":\"HUN\",\"type\":\"scatter\",\"x\":[\"2021-07-06T00:00:00\",\"2021-07-05T00:00:00\",\"2021-07-04T00:00:00\",\"2021-07-03T00:00:00\",\"2021-07-02T00:00:00\"],\"y\":[20.925929313925113,20.989548359848175,null,57.22371138550984,25.410616975953843]},{\"name\":\"IRL\",\"type\":\"scatter\",\"x\":[\"2021-07-06T00:00:00\",\"2021-07-05T00:00:00\",\"2021-07-04T00:00:00\",\"2021-07-03T00:00:00\",\"2021-07-02T00:00:00\"],\"y\":[3.9059137965959696,3.3865232759216055,3.3541121486149157,0.6223172340397455,-0.29123214092339733]},{\"name\":\"ISL\",\"type\":\"scatter\",\"x\":[\"2021-07-06T00:00:00\",\"2021-07-05T00:00:00\",\"2021-07-04T00:00:00\",\"2021-07-03T00:00:00\",\"2021-07-02T00:00:00\"],\"y\":[37.555798421949234,-2.38784369194197e+16,-2.38784369194197e+16,40.970292066722294,40.30362540005578]},{\"name\":\"ITA\",\"type\":\"scatter\",\"x\":[\"2021-07-06T00:00:00\",\"2021-07-05T00:00:00\",\"2021-07-04T00:00:00\",\"2021-07-03T00:00:00\",\"2021-07-02T00:00:00\"],\"y\":[-154.83670272929677,-155.92691116902253,-136.16487247929885,-27.43835398506153,-73.85598472379402]},{\"name\":\"LIE\",\"type\":\"scatter\",\"x\":[\"2021-07-06T00:00:00\",\"2021-07-05T00:00:00\",\"2021-07-04T00:00:00\",\"2021-07-03T00:00:00\",\"2021-07-02T00:00:00\"],\"y\":[-763066860730180.5,-12.375411236221847,-3.6703895087607443,-8.260648337496546,-7.815569889379303]},{\"name\":\"LTU\",\"type\":\"scatter\",\"x\":[\"2021-07-06T00:00:00\",\"2021-07-05T00:00:00\",\"2021-07-04T00:00:00\",\"2021-07-03T00:00:00\",\"2021-07-02T00:00:00\"],\"y\":[-82.29070579010559,-89.81065470302958,201.97424306826088,71.64171180067046,32.52612750640821]},{\"name\":\"LUX\",\"type\":\"scatter\",\"x\":[\"2021-07-06T00:00:00\",\"2021-07-05T00:00:00\",\"2021-07-04T00:00:00\",\"2021-07-03T00:00:00\",\"2021-07-02T00:00:00\"],\"y\":[0.7286885440871006,0.019984798683017002,-0.5045627254814513,-2.0926218486026444,-1.9309370327611324]},{\"name\":\"LVA\",\"type\":\"scatter\",\"x\":[\"2021-07-06T00:00:00\",\"2021-07-05T00:00:00\",\"2021-07-04T00:00:00\",\"2021-07-03T00:00:00\",\"2021-07-02T00:00:00\"],\"y\":[37.275713471544314,-62.857585004932204,-17.893649067154186,-12.95662892564857,-20.84106223019177]},{\"name\":\"MLT\",\"type\":\"scatter\",\"x\":[\"2021-07-06T00:00:00\",\"2021-07-05T00:00:00\",\"2021-07-04T00:00:00\",\"2021-07-03T00:00:00\",\"2021-07-02T00:00:00\"],\"y\":[-9.385477412766921,-10.193124357109422,-27.63765020183869,-64.28982899043974,-20.601599843333787]},{\"name\":\"NLD\",\"type\":\"scatter\",\"x\":[\"2021-07-06T00:00:00\",\"2021-07-05T00:00:00\",\"2021-07-04T00:00:00\",\"2021-07-03T00:00:00\",\"2021-07-02T00:00:00\"],\"y\":[-3.774912908159967,-5.219405374619381,-7.766711422437776,-15.310643600466939,-59.28961366311618]},{\"name\":\"NOR\",\"type\":\"scatter\",\"x\":[\"2021-07-06T00:00:00\",\"2021-07-05T00:00:00\",\"2021-07-04T00:00:00\",\"2021-07-03T00:00:00\",\"2021-07-02T00:00:00\"],\"y\":[-22.86823892227906,-3895881952637144.0,44.716154686585874,58.09979213050529,-147.2331706233569]},{\"name\":\"POL\",\"type\":\"scatter\",\"x\":[\"2021-07-06T00:00:00\",\"2021-07-05T00:00:00\",\"2021-07-04T00:00:00\",\"2021-07-03T00:00:00\",\"2021-07-02T00:00:00\"],\"y\":[158.35770282315409,859.9543055513792,157.88651254039308,53.451872158984706,43.3413620916038]},{\"name\":\"PRT\",\"type\":\"scatter\",\"x\":[\"2021-07-06T00:00:00\",\"2021-07-05T00:00:00\",\"2021-07-04T00:00:00\",\"2021-07-03T00:00:00\",\"2021-07-02T00:00:00\"],\"y\":[25.84702206947454,16.142396339609103,11.930804958721376,10.94936276960643,8.949747744249354]},{\"name\":\"ROU\",\"type\":\"scatter\",\"x\":[\"2021-07-06T00:00:00\",\"2021-07-05T00:00:00\",\"2021-07-04T00:00:00\",\"2021-07-03T00:00:00\",\"2021-07-02T00:00:00\"],\"y\":[98.8274354852178,129.77589991396303,71.80608452999029,36.15945909031566,48.02900364404754]},{\"name\":\"SVK\",\"type\":\"scatter\",\"x\":[\"2021-07-06T00:00:00\",\"2021-07-05T00:00:00\",\"2021-07-04T00:00:00\",\"2021-07-03T00:00:00\",\"2021-07-02T00:00:00\"],\"y\":[25.472786766706882,23.07911553332974,82.03087189202552,17.831059423445573,11.84597658765404]},{\"name\":\"SVN\",\"type\":\"scatter\",\"x\":[\"2021-07-06T00:00:00\",\"2021-07-05T00:00:00\",\"2021-07-04T00:00:00\",\"2021-07-03T00:00:00\",\"2021-07-02T00:00:00\"],\"y\":[-81.88363506724019,41.87527917427104,16.556207767771237,14.036039868136807,-337.2036665282244]},{\"name\":\"SWE\",\"type\":\"scatter\",\"x\":[\"2021-07-06T00:00:00\",\"2021-07-05T00:00:00\",\"2021-07-04T00:00:00\",\"2021-07-03T00:00:00\",\"2021-07-02T00:00:00\"],\"y\":[3.7236748560179365,5.660814915261541,-5723299604602441.0,-5723299604602441.0,418.01352341446557]}],                        {\"template\":{\"data\":{\"bar\":[{\"error_x\":{\"color\":\"#2a3f5f\"},\"error_y\":{\"color\":\"#2a3f5f\"},\"marker\":{\"line\":{\"color\":\"#E5ECF6\",\"width\":0.5},\"pattern\":{\"fillmode\":\"overlay\",\"size\":10,\"solidity\":0.2}},\"type\":\"bar\"}],\"barpolar\":[{\"marker\":{\"line\":{\"color\":\"#E5ECF6\",\"width\":0.5},\"pattern\":{\"fillmode\":\"overlay\",\"size\":10,\"solidity\":0.2}},\"type\":\"barpolar\"}],\"carpet\":[{\"aaxis\":{\"endlinecolor\":\"#2a3f5f\",\"gridcolor\":\"white\",\"linecolor\":\"white\",\"minorgridcolor\":\"white\",\"startlinecolor\":\"#2a3f5f\"},\"baxis\":{\"endlinecolor\":\"#2a3f5f\",\"gridcolor\":\"white\",\"linecolor\":\"white\",\"minorgridcolor\":\"white\",\"startlinecolor\":\"#2a3f5f\"},\"type\":\"carpet\"}],\"choropleth\":[{\"colorbar\":{\"outlinewidth\":0,\"ticks\":\"\"},\"type\":\"choropleth\"}],\"contour\":[{\"colorbar\":{\"outlinewidth\":0,\"ticks\":\"\"},\"colorscale\":[[0.0,\"#0d0887\"],[0.1111111111111111,\"#46039f\"],[0.2222222222222222,\"#7201a8\"],[0.3333333333333333,\"#9c179e\"],[0.4444444444444444,\"#bd3786\"],[0.5555555555555556,\"#d8576b\"],[0.6666666666666666,\"#ed7953\"],[0.7777777777777778,\"#fb9f3a\"],[0.8888888888888888,\"#fdca26\"],[1.0,\"#f0f921\"]],\"type\":\"contour\"}],\"contourcarpet\":[{\"colorbar\":{\"outlinewidth\":0,\"ticks\":\"\"},\"type\":\"contourcarpet\"}],\"heatmap\":[{\"colorbar\":{\"outlinewidth\":0,\"ticks\":\"\"},\"colorscale\":[[0.0,\"#0d0887\"],[0.1111111111111111,\"#46039f\"],[0.2222222222222222,\"#7201a8\"],[0.3333333333333333,\"#9c179e\"],[0.4444444444444444,\"#bd3786\"],[0.5555555555555556,\"#d8576b\"],[0.6666666666666666,\"#ed7953\"],[0.7777777777777778,\"#fb9f3a\"],[0.8888888888888888,\"#fdca26\"],[1.0,\"#f0f921\"]],\"type\":\"heatmap\"}],\"heatmapgl\":[{\"colorbar\":{\"outlinewidth\":0,\"ticks\":\"\"},\"colorscale\":[[0.0,\"#0d0887\"],[0.1111111111111111,\"#46039f\"],[0.2222222222222222,\"#7201a8\"],[0.3333333333333333,\"#9c179e\"],[0.4444444444444444,\"#bd3786\"],[0.5555555555555556,\"#d8576b\"],[0.6666666666666666,\"#ed7953\"],[0.7777777777777778,\"#fb9f3a\"],[0.8888888888888888,\"#fdca26\"],[1.0,\"#f0f921\"]],\"type\":\"heatmapgl\"}],\"histogram\":[{\"marker\":{\"pattern\":{\"fillmode\":\"overlay\",\"size\":10,\"solidity\":0.2}},\"type\":\"histogram\"}],\"histogram2d\":[{\"colorbar\":{\"outlinewidth\":0,\"ticks\":\"\"},\"colorscale\":[[0.0,\"#0d0887\"],[0.1111111111111111,\"#46039f\"],[0.2222222222222222,\"#7201a8\"],[0.3333333333333333,\"#9c179e\"],[0.4444444444444444,\"#bd3786\"],[0.5555555555555556,\"#d8576b\"],[0.6666666666666666,\"#ed7953\"],[0.7777777777777778,\"#fb9f3a\"],[0.8888888888888888,\"#fdca26\"],[1.0,\"#f0f921\"]],\"type\":\"histogram2d\"}],\"histogram2dcontour\":[{\"colorbar\":{\"outlinewidth\":0,\"ticks\":\"\"},\"colorscale\":[[0.0,\"#0d0887\"],[0.1111111111111111,\"#46039f\"],[0.2222222222222222,\"#7201a8\"],[0.3333333333333333,\"#9c179e\"],[0.4444444444444444,\"#bd3786\"],[0.5555555555555556,\"#d8576b\"],[0.6666666666666666,\"#ed7953\"],[0.7777777777777778,\"#fb9f3a\"],[0.8888888888888888,\"#fdca26\"],[1.0,\"#f0f921\"]],\"type\":\"histogram2dcontour\"}],\"mesh3d\":[{\"colorbar\":{\"outlinewidth\":0,\"ticks\":\"\"},\"type\":\"mesh3d\"}],\"parcoords\":[{\"line\":{\"colorbar\":{\"outlinewidth\":0,\"ticks\":\"\"}},\"type\":\"parcoords\"}],\"pie\":[{\"automargin\":true,\"type\":\"pie\"}],\"scatter\":[{\"marker\":{\"colorbar\":{\"outlinewidth\":0,\"ticks\":\"\"}},\"type\":\"scatter\"}],\"scatter3d\":[{\"line\":{\"colorbar\":{\"outlinewidth\":0,\"ticks\":\"\"}},\"marker\":{\"colorbar\":{\"outlinewidth\":0,\"ticks\":\"\"}},\"type\":\"scatter3d\"}],\"scattercarpet\":[{\"marker\":{\"colorbar\":{\"outlinewidth\":0,\"ticks\":\"\"}},\"type\":\"scattercarpet\"}],\"scattergeo\":[{\"marker\":{\"colorbar\":{\"outlinewidth\":0,\"ticks\":\"\"}},\"type\":\"scattergeo\"}],\"scattergl\":[{\"marker\":{\"colorbar\":{\"outlinewidth\":0,\"ticks\":\"\"}},\"type\":\"scattergl\"}],\"scattermapbox\":[{\"marker\":{\"colorbar\":{\"outlinewidth\":0,\"ticks\":\"\"}},\"type\":\"scattermapbox\"}],\"scatterpolar\":[{\"marker\":{\"colorbar\":{\"outlinewidth\":0,\"ticks\":\"\"}},\"type\":\"scatterpolar\"}],\"scatterpolargl\":[{\"marker\":{\"colorbar\":{\"outlinewidth\":0,\"ticks\":\"\"}},\"type\":\"scatterpolargl\"}],\"scatterternary\":[{\"marker\":{\"colorbar\":{\"outlinewidth\":0,\"ticks\":\"\"}},\"type\":\"scatterternary\"}],\"surface\":[{\"colorbar\":{\"outlinewidth\":0,\"ticks\":\"\"},\"colorscale\":[[0.0,\"#0d0887\"],[0.1111111111111111,\"#46039f\"],[0.2222222222222222,\"#7201a8\"],[0.3333333333333333,\"#9c179e\"],[0.4444444444444444,\"#bd3786\"],[0.5555555555555556,\"#d8576b\"],[0.6666666666666666,\"#ed7953\"],[0.7777777777777778,\"#fb9f3a\"],[0.8888888888888888,\"#fdca26\"],[1.0,\"#f0f921\"]],\"type\":\"surface\"}],\"table\":[{\"cells\":{\"fill\":{\"color\":\"#EBF0F8\"},\"line\":{\"color\":\"white\"}},\"header\":{\"fill\":{\"color\":\"#C8D4E3\"},\"line\":{\"color\":\"white\"}},\"type\":\"table\"}]},\"layout\":{\"annotationdefaults\":{\"arrowcolor\":\"#2a3f5f\",\"arrowhead\":0,\"arrowwidth\":1},\"autotypenumbers\":\"strict\",\"coloraxis\":{\"colorbar\":{\"outlinewidth\":0,\"ticks\":\"\"}},\"colorscale\":{\"diverging\":[[0,\"#8e0152\"],[0.1,\"#c51b7d\"],[0.2,\"#de77ae\"],[0.3,\"#f1b6da\"],[0.4,\"#fde0ef\"],[0.5,\"#f7f7f7\"],[0.6,\"#e6f5d0\"],[0.7,\"#b8e186\"],[0.8,\"#7fbc41\"],[0.9,\"#4d9221\"],[1,\"#276419\"]],\"sequential\":[[0.0,\"#0d0887\"],[0.1111111111111111,\"#46039f\"],[0.2222222222222222,\"#7201a8\"],[0.3333333333333333,\"#9c179e\"],[0.4444444444444444,\"#bd3786\"],[0.5555555555555556,\"#d8576b\"],[0.6666666666666666,\"#ed7953\"],[0.7777777777777778,\"#fb9f3a\"],[0.8888888888888888,\"#fdca26\"],[1.0,\"#f0f921\"]],\"sequentialminus\":[[0.0,\"#0d0887\"],[0.1111111111111111,\"#46039f\"],[0.2222222222222222,\"#7201a8\"],[0.3333333333333333,\"#9c179e\"],[0.4444444444444444,\"#bd3786\"],[0.5555555555555556,\"#d8576b\"],[0.6666666666666666,\"#ed7953\"],[0.7777777777777778,\"#fb9f3a\"],[0.8888888888888888,\"#fdca26\"],[1.0,\"#f0f921\"]]},\"colorway\":[\"#636efa\",\"#EF553B\",\"#00cc96\",\"#ab63fa\",\"#FFA15A\",\"#19d3f3\",\"#FF6692\",\"#B6E880\",\"#FF97FF\",\"#FECB52\"],\"font\":{\"color\":\"#2a3f5f\"},\"geo\":{\"bgcolor\":\"white\",\"lakecolor\":\"white\",\"landcolor\":\"#E5ECF6\",\"showlakes\":true,\"showland\":true,\"subunitcolor\":\"white\"},\"hoverlabel\":{\"align\":\"left\"},\"hovermode\":\"closest\",\"mapbox\":{\"style\":\"light\"},\"paper_bgcolor\":\"white\",\"plot_bgcolor\":\"#E5ECF6\",\"polar\":{\"angularaxis\":{\"gridcolor\":\"white\",\"linecolor\":\"white\",\"ticks\":\"\"},\"bgcolor\":\"#E5ECF6\",\"radialaxis\":{\"gridcolor\":\"white\",\"linecolor\":\"white\",\"ticks\":\"\"}},\"scene\":{\"xaxis\":{\"backgroundcolor\":\"#E5ECF6\",\"gridcolor\":\"white\",\"gridwidth\":2,\"linecolor\":\"white\",\"showbackground\":true,\"ticks\":\"\",\"zerolinecolor\":\"white\"},\"yaxis\":{\"backgroundcolor\":\"#E5ECF6\",\"gridcolor\":\"white\",\"gridwidth\":2,\"linecolor\":\"white\",\"showbackground\":true,\"ticks\":\"\",\"zerolinecolor\":\"white\"},\"zaxis\":{\"backgroundcolor\":\"#E5ECF6\",\"gridcolor\":\"white\",\"gridwidth\":2,\"linecolor\":\"white\",\"showbackground\":true,\"ticks\":\"\",\"zerolinecolor\":\"white\"}},\"shapedefaults\":{\"line\":{\"color\":\"#2a3f5f\"}},\"ternary\":{\"aaxis\":{\"gridcolor\":\"white\",\"linecolor\":\"white\",\"ticks\":\"\"},\"baxis\":{\"gridcolor\":\"white\",\"linecolor\":\"white\",\"ticks\":\"\"},\"bgcolor\":\"#E5ECF6\",\"caxis\":{\"gridcolor\":\"white\",\"linecolor\":\"white\",\"ticks\":\"\"}},\"title\":{\"x\":0.05},\"xaxis\":{\"automargin\":true,\"gridcolor\":\"white\",\"linecolor\":\"white\",\"ticks\":\"\",\"title\":{\"standoff\":15},\"zerolinecolor\":\"white\",\"zerolinewidth\":2},\"yaxis\":{\"automargin\":true,\"gridcolor\":\"white\",\"linecolor\":\"white\",\"ticks\":\"\",\"title\":{\"standoff\":15},\"zerolinecolor\":\"white\",\"zerolinewidth\":2}}},\"title\":{\"text\":\"Days to 50 incidents per 100.000 inhabitants\"},\"updatemenus\":[{\"active\":0,\"buttons\":[{\"args\":[{\"showlegend\":true,\"title\":\"All\",\"visible\":[true,true,true,true,true,true,true,true,true,true,true,true,true,true,true,true,true,true,true,true,true,true,true,true,true,true,true,true,true,true]}],\"label\":\"All\",\"method\":\"update\"},{\"args\":[{\"showlegend\":true,\"title\":\"AUT\",\"visible\":[true,false,false,false,false,false,false,false,false,false,false,false,false,false,false,false,false,false,false,false,false,false,false,false,false,false,false,false,false,false]}],\"label\":\"AUT\",\"method\":\"update\"},{\"args\":[{\"showlegend\":true,\"title\":\"BEL\",\"visible\":[false,true,false,false,false,false,false,false,false,false,false,false,false,false,false,false,false,false,false,false,false,false,false,false,false,false,false,false,false,false]}],\"label\":\"BEL\",\"method\":\"update\"},{\"args\":[{\"showlegend\":true,\"title\":\"BGR\",\"visible\":[false,false,true,false,false,false,false,false,false,false,false,false,false,false,false,false,false,false,false,false,false,false,false,false,false,false,false,false,false,false]}],\"label\":\"BGR\",\"method\":\"update\"},{\"args\":[{\"showlegend\":true,\"title\":\"CYP\",\"visible\":[false,false,false,true,false,false,false,false,false,false,false,false,false,false,false,false,false,false,false,false,false,false,false,false,false,false,false,false,false,false]}],\"label\":\"CYP\",\"method\":\"update\"},{\"args\":[{\"showlegend\":true,\"title\":\"CZE\",\"visible\":[false,false,false,false,true,false,false,false,false,false,false,false,false,false,false,false,false,false,false,false,false,false,false,false,false,false,false,false,false,false]}],\"label\":\"CZE\",\"method\":\"update\"},{\"args\":[{\"showlegend\":true,\"title\":\"DEU\",\"visible\":[false,false,false,false,false,true,false,false,false,false,false,false,false,false,false,false,false,false,false,false,false,false,false,false,false,false,false,false,false,false]}],\"label\":\"DEU\",\"method\":\"update\"},{\"args\":[{\"showlegend\":true,\"title\":\"DNK\",\"visible\":[false,false,false,false,false,false,true,false,false,false,false,false,false,false,false,false,false,false,false,false,false,false,false,false,false,false,false,false,false,false]}],\"label\":\"DNK\",\"method\":\"update\"},{\"args\":[{\"showlegend\":true,\"title\":\"ESP\",\"visible\":[false,false,false,false,false,false,false,true,false,false,false,false,false,false,false,false,false,false,false,false,false,false,false,false,false,false,false,false,false,false]}],\"label\":\"ESP\",\"method\":\"update\"},{\"args\":[{\"showlegend\":true,\"title\":\"EST\",\"visible\":[false,false,false,false,false,false,false,false,true,false,false,false,false,false,false,false,false,false,false,false,false,false,false,false,false,false,false,false,false,false]}],\"label\":\"EST\",\"method\":\"update\"},{\"args\":[{\"showlegend\":true,\"title\":\"FIN\",\"visible\":[false,false,false,false,false,false,false,false,false,true,false,false,false,false,false,false,false,false,false,false,false,false,false,false,false,false,false,false,false,false]}],\"label\":\"FIN\",\"method\":\"update\"},{\"args\":[{\"showlegend\":true,\"title\":\"FRA\",\"visible\":[false,false,false,false,false,false,false,false,false,false,true,false,false,false,false,false,false,false,false,false,false,false,false,false,false,false,false,false,false,false]}],\"label\":\"FRA\",\"method\":\"update\"},{\"args\":[{\"showlegend\":true,\"title\":\"GRC\",\"visible\":[false,false,false,false,false,false,false,false,false,false,false,true,false,false,false,false,false,false,false,false,false,false,false,false,false,false,false,false,false,false]}],\"label\":\"GRC\",\"method\":\"update\"},{\"args\":[{\"showlegend\":true,\"title\":\"HRV\",\"visible\":[false,false,false,false,false,false,false,false,false,false,false,false,true,false,false,false,false,false,false,false,false,false,false,false,false,false,false,false,false,false]}],\"label\":\"HRV\",\"method\":\"update\"},{\"args\":[{\"showlegend\":true,\"title\":\"HUN\",\"visible\":[false,false,false,false,false,false,false,false,false,false,false,false,false,true,false,false,false,false,false,false,false,false,false,false,false,false,false,false,false,false]}],\"label\":\"HUN\",\"method\":\"update\"},{\"args\":[{\"showlegend\":true,\"title\":\"IRL\",\"visible\":[false,false,false,false,false,false,false,false,false,false,false,false,false,false,true,false,false,false,false,false,false,false,false,false,false,false,false,false,false,false]}],\"label\":\"IRL\",\"method\":\"update\"},{\"args\":[{\"showlegend\":true,\"title\":\"ISL\",\"visible\":[false,false,false,false,false,false,false,false,false,false,false,false,false,false,false,true,false,false,false,false,false,false,false,false,false,false,false,false,false,false]}],\"label\":\"ISL\",\"method\":\"update\"},{\"args\":[{\"showlegend\":true,\"title\":\"ITA\",\"visible\":[false,false,false,false,false,false,false,false,false,false,false,false,false,false,false,false,true,false,false,false,false,false,false,false,false,false,false,false,false,false]}],\"label\":\"ITA\",\"method\":\"update\"},{\"args\":[{\"showlegend\":true,\"title\":\"LIE\",\"visible\":[false,false,false,false,false,false,false,false,false,false,false,false,false,false,false,false,false,true,false,false,false,false,false,false,false,false,false,false,false,false]}],\"label\":\"LIE\",\"method\":\"update\"},{\"args\":[{\"showlegend\":true,\"title\":\"LTU\",\"visible\":[false,false,false,false,false,false,false,false,false,false,false,false,false,false,false,false,false,false,true,false,false,false,false,false,false,false,false,false,false,false]}],\"label\":\"LTU\",\"method\":\"update\"},{\"args\":[{\"showlegend\":true,\"title\":\"LUX\",\"visible\":[false,false,false,false,false,false,false,false,false,false,false,false,false,false,false,false,false,false,false,true,false,false,false,false,false,false,false,false,false,false]}],\"label\":\"LUX\",\"method\":\"update\"},{\"args\":[{\"showlegend\":true,\"title\":\"LVA\",\"visible\":[false,false,false,false,false,false,false,false,false,false,false,false,false,false,false,false,false,false,false,false,true,false,false,false,false,false,false,false,false,false]}],\"label\":\"LVA\",\"method\":\"update\"},{\"args\":[{\"showlegend\":true,\"title\":\"MLT\",\"visible\":[false,false,false,false,false,false,false,false,false,false,false,false,false,false,false,false,false,false,false,false,false,true,false,false,false,false,false,false,false,false]}],\"label\":\"MLT\",\"method\":\"update\"},{\"args\":[{\"showlegend\":true,\"title\":\"NLD\",\"visible\":[false,false,false,false,false,false,false,false,false,false,false,false,false,false,false,false,false,false,false,false,false,false,true,false,false,false,false,false,false,false]}],\"label\":\"NLD\",\"method\":\"update\"},{\"args\":[{\"showlegend\":true,\"title\":\"NOR\",\"visible\":[false,false,false,false,false,false,false,false,false,false,false,false,false,false,false,false,false,false,false,false,false,false,false,true,false,false,false,false,false,false]}],\"label\":\"NOR\",\"method\":\"update\"},{\"args\":[{\"showlegend\":true,\"title\":\"POL\",\"visible\":[false,false,false,false,false,false,false,false,false,false,false,false,false,false,false,false,false,false,false,false,false,false,false,false,true,false,false,false,false,false]}],\"label\":\"POL\",\"method\":\"update\"},{\"args\":[{\"showlegend\":true,\"title\":\"PRT\",\"visible\":[false,false,false,false,false,false,false,false,false,false,false,false,false,false,false,false,false,false,false,false,false,false,false,false,false,true,false,false,false,false]}],\"label\":\"PRT\",\"method\":\"update\"},{\"args\":[{\"showlegend\":true,\"title\":\"ROU\",\"visible\":[false,false,false,false,false,false,false,false,false,false,false,false,false,false,false,false,false,false,false,false,false,false,false,false,false,false,true,false,false,false]}],\"label\":\"ROU\",\"method\":\"update\"},{\"args\":[{\"showlegend\":true,\"title\":\"SVK\",\"visible\":[false,false,false,false,false,false,false,false,false,false,false,false,false,false,false,false,false,false,false,false,false,false,false,false,false,false,false,true,false,false]}],\"label\":\"SVK\",\"method\":\"update\"},{\"args\":[{\"showlegend\":true,\"title\":\"SVN\",\"visible\":[false,false,false,false,false,false,false,false,false,false,false,false,false,false,false,false,false,false,false,false,false,false,false,false,false,false,false,false,true,false]}],\"label\":\"SVN\",\"method\":\"update\"},{\"args\":[{\"showlegend\":true,\"title\":\"SWE\",\"visible\":[false,false,false,false,false,false,false,false,false,false,false,false,false,false,false,false,false,false,false,false,false,false,false,false,false,false,false,false,false,true]}],\"label\":\"SWE\",\"method\":\"update\"}]}]},                        {\"responsive\": true}                    ).then(function(){\n",
       "                            \n",
       "var gd = document.getElementById('e05c284f-b9a5-448e-99ba-eae5c1690350');\n",
       "var x = new MutationObserver(function (mutations, observer) {{\n",
       "        var display = window.getComputedStyle(gd).display;\n",
       "        if (!display || display === 'none') {{\n",
       "            console.log([gd, 'removed!']);\n",
       "            Plotly.purge(gd);\n",
       "            observer.disconnect();\n",
       "        }}\n",
       "}});\n",
       "\n",
       "// Listen for the removal of the full notebook cells\n",
       "var notebookContainer = gd.closest('#notebook-container');\n",
       "if (notebookContainer) {{\n",
       "    x.observe(notebookContainer, {childList: true});\n",
       "}}\n",
       "\n",
       "// Listen for the clearing of the current output cell\n",
       "var outputEl = gd.closest('.output');\n",
       "if (outputEl) {{\n",
       "    x.observe(outputEl, {childList: true});\n",
       "}}\n",
       "\n",
       "                        })                };                });            </script>        </div>"
      ]
     },
     "metadata": {},
     "output_type": "display_data"
    }
   ],
   "source": [
    "fig = go.Figure()\n",
    "\n",
    "\n",
    "for country in countries:\n",
    "    fig.add_trace(\n",
    "        go.Scatter(x = country_data[country_name].dateRep[:5], y = country_data[country].days_50[:5], name = country)\n",
    "    )\n",
    "    \n",
    "    \n",
    "button_all = dict(label = 'All',\n",
    "                      method = 'update',\n",
    "                      args = [{'visible': list(map(lambda x: True, countries)),\n",
    "                               'title': 'All',\n",
    "                               'showlegend':True}])\n",
    "\n",
    "\n",
    "def create_layout_button(column):\n",
    "    return dict(label = column,\n",
    "                method = 'update',\n",
    "                args = [{'visible': list(map(lambda x: column == x, countries)),\n",
    "                         'title': column,\n",
    "                         'showlegend': True}])\n",
    "\n",
    "fig.update_layout(\n",
    "    title=dict(text='Days to 50 incidents per 100.000 inhabitants'),\n",
    "    updatemenus=[go.layout.Updatemenu(\n",
    "        active = 0,\n",
    "        buttons = ([button_all] ) + list(map(lambda column: create_layout_button(column), countries))\n",
    "        )\n",
    "    ])\n",
    "    \n",
    "\n",
    "#fig.show()"
   ]
  },
  {
   "cell_type": "code",
   "execution_count": null,
   "metadata": {},
   "outputs": [],
   "source": []
  },
  {
   "cell_type": "code",
   "execution_count": null,
   "metadata": {},
   "outputs": [],
   "source": []
  }
 ],
 "metadata": {
  "kernelspec": {
   "display_name": "Python 3 (ipykernel)",
   "language": "python",
   "name": "python3"
  },
  "language_info": {
   "codemirror_mode": {
    "name": "ipython",
    "version": 3
   },
   "file_extension": ".py",
   "mimetype": "text/x-python",
   "name": "python",
   "nbconvert_exporter": "python",
   "pygments_lexer": "ipython3",
   "version": "3.9.5"
  }
 },
 "nbformat": 4,
 "nbformat_minor": 4
}
